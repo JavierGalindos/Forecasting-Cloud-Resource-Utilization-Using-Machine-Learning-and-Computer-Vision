{
 "cells": [
  {
   "cell_type": "markdown",
   "metadata": {
    "collapsed": true,
    "pycharm": {
     "name": "#%% md\n"
    }
   },
   "source": [
    "# Bitbrains Dataset Exploration"
   ]
  },
  {
   "cell_type": "code",
   "execution_count": 1,
   "outputs": [
    {
     "name": "stdout",
     "output_type": "stream",
     "text": [
      "figures saved to ../Figures/DataExploration/\n"
     ]
    }
   ],
   "source": [
    "import matplotlib. pyplot as plt\n",
    "import os\n",
    "import numpy as np\n",
    "import pandas as pd\n",
    "import random\n",
    "import seaborn as sns\n",
    "from BitbrainsUtils import *\n",
    "\n",
    "# change path in BitbrainsUtils.py if needed\n",
    "random.seed(7)"
   ],
   "metadata": {
    "collapsed": false,
    "pycharm": {
     "name": "#%%\n"
    }
   }
  },
  {
   "cell_type": "code",
   "execution_count": 2,
   "outputs": [],
   "source": [
    "import matplotlib.pylab as pylab\n",
    "params = {'legend.fontsize': 12,\n",
    "         'axes.labelsize': 12,\n",
    "         'axes.titlesize': 12,\n",
    "         'xtick.labelsize': 12,\n",
    "         'ytick.labelsize': 12}\n",
    "pylab.rcParams.update(params)"
   ],
   "metadata": {
    "collapsed": false,
    "pycharm": {
     "name": "#%%\n"
    }
   }
  },
  {
   "cell_type": "code",
   "execution_count": 3,
   "outputs": [],
   "source": [
    "# Load all VMs (list of VMs)\n",
    "VMs = load_all_VMs()"
   ],
   "metadata": {
    "collapsed": false,
    "pycharm": {
     "name": "#%%\n"
    }
   }
  },
  {
   "cell_type": "markdown",
   "source": [
    "# Descriptive statistics"
   ],
   "metadata": {
    "collapsed": false
   }
  },
  {
   "cell_type": "code",
   "execution_count": 3,
   "outputs": [],
   "source": [
    "# Generate descriptive statistics of every VMs\n",
    "stats_df = descriptive_stats(VMs,features='CPU usage [MHZ]')"
   ],
   "metadata": {
    "collapsed": false,
    "pycharm": {
     "name": "#%%\n"
    }
   }
  },
  {
   "cell_type": "code",
   "execution_count": 39,
   "outputs": [],
   "source": [
    "# Generate figures\n",
    "plot_stats(stats_df, features='CPU usage [MHZ]', savefig='Descriptive Statistics')"
   ],
   "metadata": {
    "collapsed": false,
    "pycharm": {
     "name": "#%%\n"
    }
   }
  },
  {
   "cell_type": "markdown",
   "source": [
    "## Generate a Figure per VM"
   ],
   "metadata": {
    "collapsed": false
   }
  },
  {
   "cell_type": "markdown",
   "source": [
    "## CPU Utilization"
   ],
   "metadata": {
    "collapsed": false
   }
  },
  {
   "cell_type": "code",
   "execution_count": 44,
   "outputs": [],
   "source": [
    "# CPU utilization\n",
    "# New figure each VMs\n",
    "for idx,VM in enumerate(VMs):\n",
    "    save_path = os.path.join('Single VMs','CPU_utilization','VM{}'.format(idx))\n",
    "    # Create the folder whether not exists\n",
    "    if not os.path.exists(os.path.join(FIGURES_PATH, 'Single VMs','CPU_utilization')):\n",
    "        os.makedirs(os.path.join(FIGURES_PATH, 'Single VMs','CPU_utilization'))\n",
    "    plot_timeSeries(VM['CPU usage [MHZ]'],\n",
    "                    MA=0,\n",
    "                    ema=0.05,\n",
    "                    legend=True,\n",
    "                    title='CPU usage{}'.format(idx),\n",
    "                    ylabel=\"CPU usage [MHZ]\",\n",
    "                    savefig=save_path)"
   ],
   "metadata": {
    "collapsed": false,
    "pycharm": {
     "name": "#%%\n"
    }
   }
  },
  {
   "cell_type": "markdown",
   "source": [
    "### Memory utilization"
   ],
   "metadata": {
    "collapsed": false
   }
  },
  {
   "cell_type": "code",
   "execution_count": 54,
   "outputs": [],
   "source": [
    "# Memory utilization\n",
    "# New figure each VMs\n",
    "for idx,VM in enumerate(VMs):\n",
    "    save_path = os.path.join('Single VMs','memory_utilization_noFilter','VM{}'.format(idx))\n",
    "    # Create the folder whether not exists\n",
    "    if not os.path.exists(os.path.join(FIGURES_PATH, 'Single VMs','memory_utilization_noFilter')):\n",
    "        os.makedirs(os.path.join(FIGURES_PATH, 'Single VMs','memory_utilization_noFilter'))\n",
    "    plot_timeSeries(VM['Memory usage [KB]'],\n",
    "                    MA=10,\n",
    "                    ema=0.05,\n",
    "                    legend=True,\n",
    "                    title='Memory usage{}'.format(idx),\n",
    "                    ylabel=\"Memory usage [KB]\",\n",
    "                    #ylim=(0,125),\n",
    "                    savefig= save_path)"
   ],
   "metadata": {
    "collapsed": false,
    "pycharm": {
     "name": "#%%\n"
    }
   }
  },
  {
   "cell_type": "code",
   "execution_count": 38,
   "outputs": [],
   "source": [
    "# Memory utilization\n",
    "# New figure each VMs\n",
    "for idx,VM in enumerate(VMs):\n",
    "    save_path = os.path.join('Single VMs','memory_utilization_noFilter','VM{}'.format(idx))\n",
    "    # Create the folder whether not exists\n",
    "    if not os.path.exists(os.path.join(FIGURES_PATH, 'Single VMs','memory_utilization_noFilter')):\n",
    "        os.makedirs(os.path.join(FIGURES_PATH, 'Single VMs','memory_utilization_noFilter'))\n",
    "    plot_timeSeries(VM['Memory usage [KB]'],\n",
    "                    MA=0,\n",
    "                    ema=0,\n",
    "                    legend=True,\n",
    "                    title='Memory usage{}'.format(idx),\n",
    "                    ylabel=\"Memory usage [KB]\",\n",
    "                    ylim=(0,125),\n",
    "                    savefig= save_path)"
   ],
   "metadata": {
    "collapsed": false,
    "pycharm": {
     "name": "#%%\n"
    }
   }
  },
  {
   "cell_type": "markdown",
   "source": [
    "## Plot every feature of one VM"
   ],
   "metadata": {
    "collapsed": false,
    "pycharm": {
     "name": "#%% md\n"
    }
   }
  },
  {
   "cell_type": "code",
   "execution_count": 4,
   "outputs": [],
   "source": [
    "VM = VMs[805]"
   ],
   "metadata": {
    "collapsed": false,
    "pycharm": {
     "name": "#%%\n"
    }
   }
  },
  {
   "cell_type": "code",
   "execution_count": 6,
   "outputs": [],
   "source": [
    "%matplotlib qt"
   ],
   "metadata": {
    "collapsed": false,
    "pycharm": {
     "name": "#%%\n"
    }
   }
  },
  {
   "cell_type": "code",
   "execution_count": 7,
   "outputs": [
    {
     "name": "stderr",
     "output_type": "stream",
     "text": [
      "qt.qpa.drawing: Layer-backing can not be explicitly controlled on 10.14 when built against the 10.14 SDK\n"
     ]
    }
   ],
   "source": [
    "axes = VM.plot(subplots=True, figsize=(10,35))\n",
    "# to change legend location\n",
    "# flatten the array\n",
    "axes = axes.flat  # .ravel() and .flatten() also work\n",
    "# extract the figure object to use figure level methods\n",
    "fig = axes[0].get_figure()\n",
    "# iterate through each axes to use axes level methods\n",
    "for ax in axes:\n",
    "    ax.legend(loc='upper right')\n",
    "plt.suptitle('Single VM', fontsize=18)\n",
    "plt.xlabel('Time')\n",
    "plt.tight_layout()\n",
    "save_path = os.path.join(FIGURES_PATH, 'singleVM_all_features.png')\n",
    "plt.savefig(save_path, bbox_inches='tight')"
   ],
   "metadata": {
    "collapsed": false,
    "pycharm": {
     "name": "#%%\n"
    }
   }
  },
  {
   "cell_type": "markdown",
   "source": [
    "## Duration of jobs"
   ],
   "metadata": {
    "collapsed": false
   }
  },
  {
   "cell_type": "code",
   "execution_count": 4,
   "outputs": [
    {
     "data": {
      "text/plain": "Timedelta('29 days 23:59:12')"
     },
     "execution_count": 4,
     "metadata": {},
     "output_type": "execute_result"
    }
   ],
   "source": [
    "(VMs[0].index[len(VMs[0])-1] - VMs[0].index[0])"
   ],
   "metadata": {
    "collapsed": false,
    "pycharm": {
     "name": "#%%\n"
    }
   }
  },
  {
   "cell_type": "code",
   "source": [
    "# Get all the series\n",
    "duration_jobs = np.zeros(len(VMs))\n",
    "for idx,VM in enumerate(VMs):\n",
    "    # Parse time\n",
    "    # time = (VM.index[len(VM)-1] - VM.index[0]) / (1000*60)\n",
    "    time = (VM.index[len(VM)-1] - VM.index[0])\n",
    "    time_days = time.total_seconds() / (60*60*24)\n",
    "    duration_jobs[idx] = time_days\n",
    "\n",
    "# Generate plot\n",
    "fig = plt.figure(figsize=(10, 5), dpi=150)\n",
    "plt.bar(np.arange(1250),duration_jobs)\n",
    "plt.title(\"Duration of jobs\")\n",
    "plt.xlabel('Virtual machine')\n",
    "plt.ylabel('Duration job [days]')\n",
    "plt.show()"
   ],
   "metadata": {
    "collapsed": false,
    "pycharm": {
     "name": "#%%\n"
    }
   },
   "execution_count": 11,
   "outputs": [
    {
     "data": {
      "text/plain": "<Figure size 1500x750 with 1 Axes>",
      "image/png": "[encoded data removed]"
     },
     "metadata": {
      "needs_background": "light"
     },
     "output_type": "display_data"
    }
   ]
  },
  {
   "cell_type": "markdown",
   "source": [
    "# Filter VMs"
   ],
   "metadata": {
    "collapsed": false,
    "pycharm": {
     "name": "#%% md\n"
    }
   }
  },
  {
   "cell_type": "code",
   "execution_count": 4,
   "outputs": [],
   "source": [
    "mean_th = 100\n",
    "std_th = 50\n",
    "max_th = 1000\n",
    "VMs = filter_VMs(VMs, mean_th=mean_th, std_th=std_th, max_th=max_th)"
   ],
   "metadata": {
    "collapsed": false,
    "pycharm": {
     "name": "#%%\n"
    }
   }
  },
  {
   "cell_type": "code",
   "execution_count": 16,
   "outputs": [],
   "source": [
    "VMs_out = [VM for VM in VMs if (VM['CPU usage [MHZ]'].mean() <= mean_th) and\n",
    "                                    (VM['CPU usage [MHZ]'].std() <= std_th) and\n",
    "                                    (VM['CPU usage [MHZ]'].max() <= max_th)]"
   ],
   "metadata": {
    "collapsed": false,
    "pycharm": {
     "name": "#%%\n"
    }
   }
  },
  {
   "cell_type": "code",
   "execution_count": 17,
   "outputs": [],
   "source": [
    "%matplotlib inline\n",
    "# CPU utilization\n",
    "# New figure each VMs\n",
    "for idx,VM in enumerate(VMs_out):\n",
    "    save_path = os.path.join('VMs_out','VM{}'.format(idx))\n",
    "    # Create the folder whether not exists\n",
    "    if not os.path.exists(os.path.join(FIGURES_PATH, 'VMs_out')):\n",
    "        os.makedirs(os.path.join(FIGURES_PATH, 'VMs_out'))\n",
    "    plot_timeSeries(VM['CPU usage [MHZ]'],\n",
    "                    MA=0,\n",
    "                    ema=0.05,\n",
    "                    legend=True,\n",
    "                    title='CPU usage{}'.format(idx),\n",
    "                    ylabel=\"CPU usage [MHZ]\",\n",
    "                    savefig=save_path)"
   ],
   "metadata": {
    "collapsed": false,
    "pycharm": {
     "name": "#%%\n"
    }
   }
  },
  {
   "cell_type": "code",
   "execution_count": 18,
   "outputs": [],
   "source": [
    "%matplotlib inline\n",
    "# CPU utilization\n",
    "# New figure each VMs\n",
    "for idx,VM in enumerate(VMs):\n",
    "    save_path = os.path.join('VMs_in','VM{}'.format(idx))\n",
    "    # Create the folder whether not exists\n",
    "    if not os.path.exists(os.path.join(FIGURES_PATH, 'VMs_in')):\n",
    "        os.makedirs(os.path.join(FIGURES_PATH, 'VMs_in'))\n",
    "    plot_timeSeries(VM['CPU usage [MHZ]'],\n",
    "                    MA=0,\n",
    "                    ema=0.05,\n",
    "                    legend=True,\n",
    "                    title='CPU usage{}'.format(idx),\n",
    "                    ylabel=\"CPU usage [MHZ]\",\n",
    "                    savefig=save_path)"
   ],
   "metadata": {
    "collapsed": false,
    "pycharm": {
     "name": "#%%\n"
    }
   }
  },
  {
   "cell_type": "markdown",
   "source": [
    "## Data center dataframe"
   ],
   "metadata": {
    "collapsed": false
   }
  },
  {
   "cell_type": "code",
   "execution_count": 39,
   "outputs": [],
   "source": [
    "Datacenter = load_datacenter(VMs)"
   ],
   "metadata": {
    "collapsed": false,
    "pycharm": {
     "name": "#%%\n"
    }
   }
  },
  {
   "cell_type": "code",
   "execution_count": 41,
   "outputs": [],
   "source": [
    "# Generate figures\n",
    "# CPU utilization\n",
    "save_path = os.path.join('CPU_utilization','Datacenter_CPU')\n",
    "plot_timeSeries(Datacenter['CPU usage [MHZ]'],\n",
    "                MA=0,\n",
    "                ema=0.05,\n",
    "                legend=True,\n",
    "                title='Average CPU usage Datacenter',\n",
    "                xlabel='Time',\n",
    "                ylabel='CPU usage [MHZ]',\n",
    "                savefig=save_path,\n",
    "                marker='o',\n",
    "                linestyle='',\n",
    "                alpha=0.3,\n",
    "                markersize=2)\n",
    "\n",
    "# Memory utilization\n",
    "save_path = os.path.join('memory_utilization','Datacenter_memory')\n",
    "plot_timeSeries(Datacenter['Memory usage [KB]'],\n",
    "                MA=0,\n",
    "                ema=0.05,\n",
    "                legend=True,\n",
    "                title='Average Memory usage Datacenter',\n",
    "                xlabel='Time',\n",
    "                ylabel=\"Memory usage [KB]\",\n",
    "                savefig= save_path,\n",
    "                marker='o',\n",
    "                linestyle='',\n",
    "                alpha = 0.3,\n",
    "                markersize=2)"
   ],
   "metadata": {
    "collapsed": false,
    "pycharm": {
     "name": "#%%\n"
    }
   }
  },
  {
   "cell_type": "markdown",
   "source": [
    "# Clustering VM time series"
   ],
   "metadata": {
    "collapsed": false,
    "pycharm": {
     "name": "#%% md\n"
    }
   }
  },
  {
   "cell_type": "code",
   "execution_count": 4,
   "outputs": [],
   "source": [
    "# Load all VMs (list of VMs)\n",
    "VMs = load_all_VMs()"
   ],
   "metadata": {
    "collapsed": false,
    "pycharm": {
     "name": "#%%\n"
    }
   }
  },
  {
   "cell_type": "code",
   "execution_count": 5,
   "outputs": [],
   "source": [
    "# Select only one feature & shorten the series due to time limitation\n",
    "# features = ['CPU usage [MHZ]', 'Memory usage [KB]']\n",
    "features = 'CPU usage [MHZ]'\n",
    "VMs_fs_ts, VMs_fs_short_ts = clustering_preprocessing(VMs, features= features, length= 500)"
   ],
   "metadata": {
    "collapsed": false,
    "pycharm": {
     "name": "#%%\n"
    }
   }
  },
  {
   "cell_type": "code",
   "execution_count": 63,
   "outputs": [
    {
     "name": "stderr",
     "output_type": "stream",
     "text": [
      "[Parallel(n_jobs=-1)]: Using backend ThreadingBackend with 8 concurrent workers.\n",
      "[Parallel(n_jobs=-1)]: Done  34 tasks      | elapsed:    5.4s\n",
      "[Parallel(n_jobs=-1)]: Done 184 tasks      | elapsed:   29.2s\n",
      "[Parallel(n_jobs=-1)]: Done 434 tasks      | elapsed:  1.5min\n",
      "[Parallel(n_jobs=-1)]: Done 666 out of 666 | elapsed:  2.7min finished\n",
      "[Parallel(n_jobs=-1)]: Using backend ThreadingBackend with 8 concurrent workers.\n",
      "[Parallel(n_jobs=-1)]: Done  34 tasks      | elapsed:    5.5s\n",
      "[Parallel(n_jobs=-1)]: Done 184 tasks      | elapsed:   39.5s\n",
      "[Parallel(n_jobs=-1)]: Done 434 tasks      | elapsed:  1.6min\n",
      "[Parallel(n_jobs=-1)]: Done 784 tasks      | elapsed:  2.9min\n",
      "[Parallel(n_jobs=-1)]: Done 1234 tasks      | elapsed:  5.1min\n",
      "[Parallel(n_jobs=-1)]: Done 1784 tasks      | elapsed:  7.5min\n",
      "[Parallel(n_jobs=-1)]: Done 1998 out of 1998 | elapsed:  8.5min finished\n",
      "[Parallel(n_jobs=-1)]: Using backend ThreadingBackend with 8 concurrent workers.\n",
      "[Parallel(n_jobs=-1)]: Done  34 tasks      | elapsed:    9.5s\n",
      "[Parallel(n_jobs=-1)]: Done 184 tasks      | elapsed:  1.0min\n",
      "[Parallel(n_jobs=-1)]: Done 434 tasks      | elapsed:  2.7min\n",
      "[Parallel(n_jobs=-1)]: Done 784 tasks      | elapsed:  4.4min\n",
      "[Parallel(n_jobs=-1)]: Done 1234 tasks      | elapsed:  6.4min\n",
      "[Parallel(n_jobs=-1)]: Done 1784 tasks      | elapsed:  8.6min\n",
      "[Parallel(n_jobs=-1)]: Done 1998 out of 1998 | elapsed:  9.4min finished\n",
      "[Parallel(n_jobs=-1)]: Using backend ThreadingBackend with 8 concurrent workers.\n",
      "[Parallel(n_jobs=-1)]: Done  34 tasks      | elapsed:    4.2s\n",
      "[Parallel(n_jobs=-1)]: Done 184 tasks      | elapsed:   25.9s\n",
      "[Parallel(n_jobs=-1)]: Done 434 tasks      | elapsed:  1.1min\n",
      "[Parallel(n_jobs=-1)]: Done 784 tasks      | elapsed:  2.4min\n",
      "[Parallel(n_jobs=-1)]: Done 1234 tasks      | elapsed:  4.2min\n",
      "[Parallel(n_jobs=-1)]: Done 1784 tasks      | elapsed:  6.7min\n",
      "[Parallel(n_jobs=-1)]: Done 1998 out of 1998 | elapsed:  7.5min finished\n",
      "[Parallel(n_jobs=-1)]: Using backend ThreadingBackend with 8 concurrent workers.\n",
      "[Parallel(n_jobs=-1)]: Done  34 tasks      | elapsed:    4.9s\n",
      "[Parallel(n_jobs=-1)]: Done 184 tasks      | elapsed:   28.7s\n",
      "[Parallel(n_jobs=-1)]: Done 434 tasks      | elapsed:  1.5min\n",
      "[Parallel(n_jobs=-1)]: Done 784 tasks      | elapsed:  2.9min\n",
      "[Parallel(n_jobs=-1)]: Done 1234 tasks      | elapsed:  4.6min\n",
      "[Parallel(n_jobs=-1)]: Done 1784 tasks      | elapsed:  7.0min\n",
      "[Parallel(n_jobs=-1)]: Done 1998 out of 1998 | elapsed:  7.9min finished\n",
      "[Parallel(n_jobs=-1)]: Using backend ThreadingBackend with 8 concurrent workers.\n",
      "[Parallel(n_jobs=-1)]: Done  34 tasks      | elapsed:   10.3s\n",
      "[Parallel(n_jobs=-1)]: Done 184 tasks      | elapsed:  1.0min\n",
      "[Parallel(n_jobs=-1)]: Done 434 tasks      | elapsed:  2.9min\n",
      "[Parallel(n_jobs=-1)]: Done 784 tasks      | elapsed:  6.0min\n",
      "[Parallel(n_jobs=-1)]: Done 1234 tasks      | elapsed:  8.7min\n",
      "[Parallel(n_jobs=-1)]: Done 1784 tasks      | elapsed: 12.7min\n",
      "[Parallel(n_jobs=-1)]: Done 2434 tasks      | elapsed: 18.1min\n",
      "[Parallel(n_jobs=-1)]: Done 3184 tasks      | elapsed: 22.8min\n",
      "[Parallel(n_jobs=-1)]: Done 3330 out of 3330 | elapsed: 23.9min finished\n"
     ]
    },
    {
     "name": "stdout",
     "output_type": "stream",
     "text": [
      "11411044484.561 --> "
     ]
    },
    {
     "ename": "MemoryError",
     "evalue": "Unable to allocate 1.48 GiB for an array with shape (16141, 12343) and data type float64",
     "output_type": "error",
     "traceback": [
      "\u001B[1;31m---------------------------------------------------------------------------\u001B[0m",
      "\u001B[1;31mMemoryError\u001B[0m                               Traceback (most recent call last)",
      "Input \u001B[1;32mIn [63]\u001B[0m, in \u001B[0;36m<module>\u001B[1;34m\u001B[0m\n\u001B[0;32m      2\u001B[0m n_clusters \u001B[38;5;241m=\u001B[39m \u001B[38;5;241m5\u001B[39m\n\u001B[0;32m      3\u001B[0m kmeans_model \u001B[38;5;241m=\u001B[39m TimeSeriesKMeans(n_clusters\u001B[38;5;241m=\u001B[39mn_clusters,\n\u001B[0;32m      4\u001B[0m                                 metric\u001B[38;5;241m=\u001B[39m\u001B[38;5;124m\"\u001B[39m\u001B[38;5;124mdtw\u001B[39m\u001B[38;5;124m\"\u001B[39m,\n\u001B[0;32m      5\u001B[0m                                 n_jobs\u001B[38;5;241m=\u001B[39m\u001B[38;5;241m-\u001B[39m\u001B[38;5;241m1\u001B[39m, \u001B[38;5;66;03m# All available workers\u001B[39;00m\n\u001B[0;32m      6\u001B[0m                                 verbose \u001B[38;5;241m=\u001B[39m \u001B[38;5;28;01mTrue\u001B[39;00m)\n\u001B[1;32m----> 7\u001B[0m \u001B[43mkmeans_model\u001B[49m\u001B[38;5;241;43m.\u001B[39;49m\u001B[43mfit\u001B[49m\u001B[43m(\u001B[49m\u001B[43mVMs_fs_ts\u001B[49m\u001B[43m)\u001B[49m\n",
      "File \u001B[1;32mc:\\users\\javier galindos\\appdata\\local\\programs\\python\\python38\\lib\\site-packages\\tslearn\\clustering\\kmeans.py:780\u001B[0m, in \u001B[0;36mTimeSeriesKMeans.fit\u001B[1;34m(self, X, y)\u001B[0m\n\u001B[0;32m    778\u001B[0m     \u001B[38;5;28mprint\u001B[39m(\u001B[38;5;124m\"\u001B[39m\u001B[38;5;124mInit \u001B[39m\u001B[38;5;132;01m%d\u001B[39;00m\u001B[38;5;124m\"\u001B[39m \u001B[38;5;241m%\u001B[39m (n_successful \u001B[38;5;241m+\u001B[39m \u001B[38;5;241m1\u001B[39m))\n\u001B[0;32m    779\u001B[0m n_attempts \u001B[38;5;241m+\u001B[39m\u001B[38;5;241m=\u001B[39m \u001B[38;5;241m1\u001B[39m\n\u001B[1;32m--> 780\u001B[0m \u001B[38;5;28;43mself\u001B[39;49m\u001B[38;5;241;43m.\u001B[39;49m\u001B[43m_fit_one_init\u001B[49m\u001B[43m(\u001B[49m\u001B[43mX_\u001B[49m\u001B[43m,\u001B[49m\u001B[43m \u001B[49m\u001B[43mx_squared_norms\u001B[49m\u001B[43m,\u001B[49m\u001B[43m \u001B[49m\u001B[43mrs\u001B[49m\u001B[43m)\u001B[49m\n\u001B[0;32m    781\u001B[0m \u001B[38;5;28;01mif\u001B[39;00m \u001B[38;5;28mself\u001B[39m\u001B[38;5;241m.\u001B[39minertia_ \u001B[38;5;241m<\u001B[39m min_inertia:\n\u001B[0;32m    782\u001B[0m     best_correct_centroids \u001B[38;5;241m=\u001B[39m \u001B[38;5;28mself\u001B[39m\u001B[38;5;241m.\u001B[39mcluster_centers_\u001B[38;5;241m.\u001B[39mcopy()\n",
      "File \u001B[1;32mc:\\users\\javier galindos\\appdata\\local\\programs\\python\\python38\\lib\\site-packages\\tslearn\\clustering\\kmeans.py:665\u001B[0m, in \u001B[0;36mTimeSeriesKMeans._fit_one_init\u001B[1;34m(self, X, x_squared_norms, rs)\u001B[0m\n\u001B[0;32m    663\u001B[0m \u001B[38;5;28;01mif\u001B[39;00m \u001B[38;5;28mself\u001B[39m\u001B[38;5;241m.\u001B[39mverbose:\n\u001B[0;32m    664\u001B[0m     \u001B[38;5;28mprint\u001B[39m(\u001B[38;5;124m\"\u001B[39m\u001B[38;5;132;01m%.3f\u001B[39;00m\u001B[38;5;124m\"\u001B[39m \u001B[38;5;241m%\u001B[39m \u001B[38;5;28mself\u001B[39m\u001B[38;5;241m.\u001B[39minertia_, end\u001B[38;5;241m=\u001B[39m\u001B[38;5;124m\"\u001B[39m\u001B[38;5;124m --> \u001B[39m\u001B[38;5;124m\"\u001B[39m)\n\u001B[1;32m--> 665\u001B[0m \u001B[38;5;28;43mself\u001B[39;49m\u001B[38;5;241;43m.\u001B[39;49m\u001B[43m_update_centroids\u001B[49m\u001B[43m(\u001B[49m\u001B[43mX\u001B[49m\u001B[43m)\u001B[49m\n\u001B[0;32m    667\u001B[0m \u001B[38;5;28;01mif\u001B[39;00m numpy\u001B[38;5;241m.\u001B[39mabs(old_inertia \u001B[38;5;241m-\u001B[39m \u001B[38;5;28mself\u001B[39m\u001B[38;5;241m.\u001B[39minertia_) \u001B[38;5;241m<\u001B[39m \u001B[38;5;28mself\u001B[39m\u001B[38;5;241m.\u001B[39mtol:\n\u001B[0;32m    668\u001B[0m     \u001B[38;5;28;01mbreak\u001B[39;00m\n",
      "File \u001B[1;32mc:\\users\\javier galindos\\appdata\\local\\programs\\python\\python38\\lib\\site-packages\\tslearn\\clustering\\kmeans.py:713\u001B[0m, in \u001B[0;36mTimeSeriesKMeans._update_centroids\u001B[1;34m(self, X)\u001B[0m\n\u001B[0;32m    711\u001B[0m \u001B[38;5;28;01mfor\u001B[39;00m k \u001B[38;5;129;01min\u001B[39;00m \u001B[38;5;28mrange\u001B[39m(\u001B[38;5;28mself\u001B[39m\u001B[38;5;241m.\u001B[39mn_clusters):\n\u001B[0;32m    712\u001B[0m     \u001B[38;5;28;01mif\u001B[39;00m \u001B[38;5;28mself\u001B[39m\u001B[38;5;241m.\u001B[39mmetric \u001B[38;5;241m==\u001B[39m \u001B[38;5;124m\"\u001B[39m\u001B[38;5;124mdtw\u001B[39m\u001B[38;5;124m\"\u001B[39m:\n\u001B[1;32m--> 713\u001B[0m         \u001B[38;5;28mself\u001B[39m\u001B[38;5;241m.\u001B[39mcluster_centers_[k] \u001B[38;5;241m=\u001B[39m \u001B[43mdtw_barycenter_averaging\u001B[49m\u001B[43m(\u001B[49m\n\u001B[0;32m    714\u001B[0m \u001B[43m            \u001B[49m\u001B[43mX\u001B[49m\u001B[38;5;241;43m=\u001B[39;49m\u001B[43mX\u001B[49m\u001B[43m[\u001B[49m\u001B[38;5;28;43mself\u001B[39;49m\u001B[38;5;241;43m.\u001B[39;49m\u001B[43mlabels_\u001B[49m\u001B[43m \u001B[49m\u001B[38;5;241;43m==\u001B[39;49m\u001B[43m \u001B[49m\u001B[43mk\u001B[49m\u001B[43m]\u001B[49m\u001B[43m,\u001B[49m\n\u001B[0;32m    715\u001B[0m \u001B[43m            \u001B[49m\u001B[43mbarycenter_size\u001B[49m\u001B[38;5;241;43m=\u001B[39;49m\u001B[38;5;28;43;01mNone\u001B[39;49;00m\u001B[43m,\u001B[49m\n\u001B[0;32m    716\u001B[0m \u001B[43m            \u001B[49m\u001B[43minit_barycenter\u001B[49m\u001B[38;5;241;43m=\u001B[39;49m\u001B[38;5;28;43mself\u001B[39;49m\u001B[38;5;241;43m.\u001B[39;49m\u001B[43mcluster_centers_\u001B[49m\u001B[43m[\u001B[49m\u001B[43mk\u001B[49m\u001B[43m]\u001B[49m\u001B[43m,\u001B[49m\n\u001B[0;32m    717\u001B[0m \u001B[43m            \u001B[49m\u001B[43mmetric_params\u001B[49m\u001B[38;5;241;43m=\u001B[39;49m\u001B[43mmetric_params\u001B[49m\u001B[43m,\u001B[49m\n\u001B[0;32m    718\u001B[0m \u001B[43m            \u001B[49m\u001B[43mverbose\u001B[49m\u001B[38;5;241;43m=\u001B[39;49m\u001B[38;5;28;43;01mFalse\u001B[39;49;00m\u001B[43m)\u001B[49m\n\u001B[0;32m    719\u001B[0m     \u001B[38;5;28;01melif\u001B[39;00m \u001B[38;5;28mself\u001B[39m\u001B[38;5;241m.\u001B[39mmetric \u001B[38;5;241m==\u001B[39m \u001B[38;5;124m\"\u001B[39m\u001B[38;5;124msoftdtw\u001B[39m\u001B[38;5;124m\"\u001B[39m:\n\u001B[0;32m    720\u001B[0m         \u001B[38;5;28mself\u001B[39m\u001B[38;5;241m.\u001B[39mcluster_centers_[k] \u001B[38;5;241m=\u001B[39m softdtw_barycenter(\n\u001B[0;32m    721\u001B[0m             X\u001B[38;5;241m=\u001B[39mX[\u001B[38;5;28mself\u001B[39m\u001B[38;5;241m.\u001B[39mlabels_ \u001B[38;5;241m==\u001B[39m k],\n\u001B[0;32m    722\u001B[0m             max_iter\u001B[38;5;241m=\u001B[39m\u001B[38;5;28mself\u001B[39m\u001B[38;5;241m.\u001B[39mmax_iter_barycenter,\n\u001B[0;32m    723\u001B[0m             init\u001B[38;5;241m=\u001B[39m\u001B[38;5;28mself\u001B[39m\u001B[38;5;241m.\u001B[39mcluster_centers_[k],\n\u001B[0;32m    724\u001B[0m             \u001B[38;5;241m*\u001B[39m\u001B[38;5;241m*\u001B[39mmetric_params)\n",
      "File \u001B[1;32mc:\\users\\javier galindos\\appdata\\local\\programs\\python\\python38\\lib\\site-packages\\tslearn\\barycenters\\dba.py:498\u001B[0m, in \u001B[0;36mdtw_barycenter_averaging\u001B[1;34m(X, barycenter_size, init_barycenter, max_iter, tol, weights, metric_params, verbose, n_init)\u001B[0m\n\u001B[0;32m    496\u001B[0m \u001B[38;5;28;01mif\u001B[39;00m verbose:\n\u001B[0;32m    497\u001B[0m     \u001B[38;5;28mprint\u001B[39m(\u001B[38;5;124m\"\u001B[39m\u001B[38;5;124mAttempt \u001B[39m\u001B[38;5;132;01m{}\u001B[39;00m\u001B[38;5;124m\"\u001B[39m\u001B[38;5;241m.\u001B[39mformat(i \u001B[38;5;241m+\u001B[39m \u001B[38;5;241m1\u001B[39m))\n\u001B[1;32m--> 498\u001B[0m bary, loss \u001B[38;5;241m=\u001B[39m \u001B[43mdtw_barycenter_averaging_one_init\u001B[49m\u001B[43m(\u001B[49m\n\u001B[0;32m    499\u001B[0m \u001B[43m    \u001B[49m\u001B[43mX\u001B[49m\u001B[38;5;241;43m=\u001B[39;49m\u001B[43mX\u001B[49m\u001B[43m,\u001B[49m\n\u001B[0;32m    500\u001B[0m \u001B[43m    \u001B[49m\u001B[43mbarycenter_size\u001B[49m\u001B[38;5;241;43m=\u001B[39;49m\u001B[43mbarycenter_size\u001B[49m\u001B[43m,\u001B[49m\n\u001B[0;32m    501\u001B[0m \u001B[43m    \u001B[49m\u001B[43minit_barycenter\u001B[49m\u001B[38;5;241;43m=\u001B[39;49m\u001B[43minit_barycenter\u001B[49m\u001B[43m,\u001B[49m\n\u001B[0;32m    502\u001B[0m \u001B[43m    \u001B[49m\u001B[43mmax_iter\u001B[49m\u001B[38;5;241;43m=\u001B[39;49m\u001B[43mmax_iter\u001B[49m\u001B[43m,\u001B[49m\n\u001B[0;32m    503\u001B[0m \u001B[43m    \u001B[49m\u001B[43mtol\u001B[49m\u001B[38;5;241;43m=\u001B[39;49m\u001B[43mtol\u001B[49m\u001B[43m,\u001B[49m\n\u001B[0;32m    504\u001B[0m \u001B[43m    \u001B[49m\u001B[43mweights\u001B[49m\u001B[38;5;241;43m=\u001B[39;49m\u001B[43mweights\u001B[49m\u001B[43m,\u001B[49m\n\u001B[0;32m    505\u001B[0m \u001B[43m    \u001B[49m\u001B[43mmetric_params\u001B[49m\u001B[38;5;241;43m=\u001B[39;49m\u001B[43mmetric_params\u001B[49m\u001B[43m,\u001B[49m\n\u001B[0;32m    506\u001B[0m \u001B[43m    \u001B[49m\u001B[43mverbose\u001B[49m\u001B[38;5;241;43m=\u001B[39;49m\u001B[43mverbose\u001B[49m\n\u001B[0;32m    507\u001B[0m \u001B[43m\u001B[49m\u001B[43m)\u001B[49m\n\u001B[0;32m    508\u001B[0m \u001B[38;5;28;01mif\u001B[39;00m loss \u001B[38;5;241m<\u001B[39m best_cost:\n\u001B[0;32m    509\u001B[0m     best_cost \u001B[38;5;241m=\u001B[39m loss\n",
      "File \u001B[1;32mc:\\users\\javier galindos\\appdata\\local\\programs\\python\\python38\\lib\\site-packages\\tslearn\\barycenters\\dba.py:591\u001B[0m, in \u001B[0;36mdtw_barycenter_averaging_one_init\u001B[1;34m(X, barycenter_size, init_barycenter, max_iter, tol, weights, metric_params, verbose)\u001B[0m\n\u001B[0;32m    589\u001B[0m \u001B[38;5;28;01mfor\u001B[39;00m it \u001B[38;5;129;01min\u001B[39;00m \u001B[38;5;28mrange\u001B[39m(max_iter):\n\u001B[0;32m    590\u001B[0m     list_p_k, cost \u001B[38;5;241m=\u001B[39m _mm_assignment(X_, barycenter, weights, metric_params)\n\u001B[1;32m--> 591\u001B[0m     diag_sum_v_k, list_w_k \u001B[38;5;241m=\u001B[39m \u001B[43m_mm_valence_warping\u001B[49m\u001B[43m(\u001B[49m\u001B[43mlist_p_k\u001B[49m\u001B[43m,\u001B[49m\u001B[43m \u001B[49m\u001B[43mbarycenter_size\u001B[49m\u001B[43m,\u001B[49m\n\u001B[0;32m    592\u001B[0m \u001B[43m                                                 \u001B[49m\u001B[43mweights\u001B[49m\u001B[43m)\u001B[49m\n\u001B[0;32m    593\u001B[0m     \u001B[38;5;28;01mif\u001B[39;00m verbose:\n\u001B[0;32m    594\u001B[0m         \u001B[38;5;28mprint\u001B[39m(\u001B[38;5;124m\"\u001B[39m\u001B[38;5;124m[DBA] epoch \u001B[39m\u001B[38;5;132;01m%d\u001B[39;00m\u001B[38;5;124m, cost: \u001B[39m\u001B[38;5;132;01m%.3f\u001B[39;00m\u001B[38;5;124m\"\u001B[39m \u001B[38;5;241m%\u001B[39m (it \u001B[38;5;241m+\u001B[39m \u001B[38;5;241m1\u001B[39m, cost))\n",
      "File \u001B[1;32mc:\\users\\javier galindos\\appdata\\local\\programs\\python\\python38\\lib\\site-packages\\tslearn\\barycenters\\dba.py:303\u001B[0m, in \u001B[0;36m_mm_valence_warping\u001B[1;34m(list_p_k, barycenter_size, weights)\u001B[0m\n\u001B[0;32m    268\u001B[0m \u001B[38;5;28;01mdef\u001B[39;00m \u001B[38;5;21m_mm_valence_warping\u001B[39m(list_p_k, barycenter_size, weights):\n\u001B[0;32m    269\u001B[0m     \u001B[38;5;124;03m\"\"\"Compute Valence and Warping matrices from paths.\u001B[39;00m\n\u001B[0;32m    270\u001B[0m \n\u001B[0;32m    271\u001B[0m \u001B[38;5;124;03m    Valence matrices are denoted :math:`V^{(k)}` and Warping matrices are\u001B[39;00m\n\u001B[1;32m   (...)\u001B[0m\n\u001B[0;32m    301\u001B[0m \u001B[38;5;124;03m       Pattern Recognition, 74, 340-358.\u001B[39;00m\n\u001B[0;32m    302\u001B[0m \u001B[38;5;124;03m    \"\"\"\u001B[39;00m\n\u001B[1;32m--> 303\u001B[0m     list_v_k, list_w_k \u001B[38;5;241m=\u001B[39m \u001B[43m_subgradient_valence_warping\u001B[49m\u001B[43m(\u001B[49m\n\u001B[0;32m    304\u001B[0m \u001B[43m        \u001B[49m\u001B[43mlist_p_k\u001B[49m\u001B[38;5;241;43m=\u001B[39;49m\u001B[43mlist_p_k\u001B[49m\u001B[43m,\u001B[49m\n\u001B[0;32m    305\u001B[0m \u001B[43m        \u001B[49m\u001B[43mbarycenter_size\u001B[49m\u001B[38;5;241;43m=\u001B[39;49m\u001B[43mbarycenter_size\u001B[49m\u001B[43m,\u001B[49m\n\u001B[0;32m    306\u001B[0m \u001B[43m        \u001B[49m\u001B[43mweights\u001B[49m\u001B[38;5;241;43m=\u001B[39;49m\u001B[43mweights\u001B[49m\u001B[43m)\u001B[49m\n\u001B[0;32m    307\u001B[0m     diag_sum_v_k \u001B[38;5;241m=\u001B[39m numpy\u001B[38;5;241m.\u001B[39mzeros(list_v_k[\u001B[38;5;241m0\u001B[39m]\u001B[38;5;241m.\u001B[39mshape)\n\u001B[0;32m    308\u001B[0m     \u001B[38;5;28;01mfor\u001B[39;00m v_k \u001B[38;5;129;01min\u001B[39;00m list_v_k:\n",
      "File \u001B[1;32mc:\\users\\javier galindos\\appdata\\local\\programs\\python\\python38\\lib\\site-packages\\tslearn\\barycenters\\dba.py:260\u001B[0m, in \u001B[0;36m_subgradient_valence_warping\u001B[1;34m(list_p_k, barycenter_size, weights)\u001B[0m\n\u001B[0;32m    258\u001B[0m \u001B[38;5;28;01mfor\u001B[39;00m k, p_k \u001B[38;5;129;01min\u001B[39;00m \u001B[38;5;28menumerate\u001B[39m(list_p_k):\n\u001B[0;32m    259\u001B[0m     sz_k \u001B[38;5;241m=\u001B[39m p_k[\u001B[38;5;241m-\u001B[39m\u001B[38;5;241m1\u001B[39m][\u001B[38;5;241m1\u001B[39m] \u001B[38;5;241m+\u001B[39m \u001B[38;5;241m1\u001B[39m\n\u001B[1;32m--> 260\u001B[0m     w_k \u001B[38;5;241m=\u001B[39m \u001B[43mnumpy\u001B[49m\u001B[38;5;241;43m.\u001B[39;49m\u001B[43mzeros\u001B[49m\u001B[43m(\u001B[49m\u001B[43m(\u001B[49m\u001B[43mbarycenter_size\u001B[49m\u001B[43m,\u001B[49m\u001B[43m \u001B[49m\u001B[43msz_k\u001B[49m\u001B[43m)\u001B[49m\u001B[43m)\u001B[49m\n\u001B[0;32m    261\u001B[0m     \u001B[38;5;28;01mfor\u001B[39;00m i, j \u001B[38;5;129;01min\u001B[39;00m p_k:\n\u001B[0;32m    262\u001B[0m         w_k[i, j] \u001B[38;5;241m=\u001B[39m \u001B[38;5;241m1.\u001B[39m\n",
      "\u001B[1;31mMemoryError\u001B[0m: Unable to allocate 1.48 GiB for an array with shape (16141, 12343) and data type float64"
     ]
    }
   ],
   "source": [
    "# K-means clustering with dtw\n",
    "n_clusters = 5\n",
    "kmeans_model = TimeSeriesKMeans(n_clusters=n_clusters,\n",
    "                                metric=\"dtw\",\n",
    "                                n_jobs=-1, # All available workers\n",
    "                                verbose = True)\n",
    "kmeans_model.fit(VMs_fs_ts)"
   ],
   "metadata": {
    "collapsed": false,
    "pycharm": {
     "name": "#%%\n"
    }
   }
  },
  {
   "cell_type": "code",
   "execution_count": null,
   "outputs": [],
   "source": [
    "# Save the model to disk\n",
    "kmeans_model.to_hdf5('./kmeans_4.hdf5')"
   ],
   "metadata": {
    "collapsed": false,
    "pycharm": {
     "name": "#%%\n"
    }
   }
  },
  {
   "cell_type": "code",
   "execution_count": 11,
   "outputs": [],
   "source": [
    "# Load model\n",
    "kmeans_model = TimeSeriesKMeans.from_hdf5('./kmeans_models/k_means_filter/kmeans_4.hdf5')"
   ],
   "metadata": {
    "collapsed": false,
    "pycharm": {
     "name": "#%%\n"
    }
   }
  },
  {
   "cell_type": "code",
   "execution_count": 12,
   "outputs": [
    {
     "name": "stderr",
     "output_type": "stream",
     "text": [
      "[Parallel(n_jobs=-1)]: Using backend ThreadingBackend with 8 concurrent workers.\n",
      "[Parallel(n_jobs=-1)]: Done  34 tasks      | elapsed:    0.0s\n",
      "[Parallel(n_jobs=-1)]: Done 184 tasks      | elapsed:    0.1s\n",
      "[Parallel(n_jobs=-1)]: Done 434 tasks      | elapsed:    0.2s\n",
      "[Parallel(n_jobs=-1)]: Done 784 tasks      | elapsed:    0.4s\n",
      "[Parallel(n_jobs=-1)]: Done 1234 tasks      | elapsed:    0.7s\n",
      "[Parallel(n_jobs=-1)]: Done 1784 tasks      | elapsed:    1.0s\n",
      "[Parallel(n_jobs=-1)]: Done 2434 tasks      | elapsed:    1.3s\n",
      "[Parallel(n_jobs=-1)]: Done 3072 out of 3072 | elapsed:    1.8s finished\n"
     ]
    }
   ],
   "source": [
    "labels = kmeans_model.predict(VMs_fs_short_ts)"
   ],
   "metadata": {
    "collapsed": false,
    "pycharm": {
     "name": "#%%\n"
    }
   }
  },
  {
   "cell_type": "markdown",
   "source": [
    "## Validation: silhouette coefficient"
   ],
   "metadata": {
    "collapsed": false,
    "pycharm": {
     "name": "#%% md\n"
    }
   },
   "execution_count": 27
  },
  {
   "cell_type": "code",
   "execution_count": null,
   "outputs": [],
   "source": [
    "silhouette_score(VMs_fs_short_ts,\n",
    "                 labels,\n",
    "                 metric=\"dtw\",\n",
    "                 n_jobs=-1,\n",
    "                 verbose=True)"
   ],
   "metadata": {
    "collapsed": false,
    "pycharm": {
     "name": "#%%\n"
    }
   }
  },
  {
   "cell_type": "markdown",
   "source": [
    "## Elbow method"
   ],
   "metadata": {
    "collapsed": false,
    "pycharm": {
     "name": "#%% md\n"
    }
   }
  },
  {
   "cell_type": "code",
   "execution_count": 8,
   "outputs": [],
   "source": [
    "elbow = elbow_method('./kmeans_models/k_means_CPU')\n",
    "plot_silhouette(elbow, ylabel='Inertia', title='Elbow method', savefig='Clustering/elbow_CPU')"
   ],
   "metadata": {
    "collapsed": false,
    "pycharm": {
     "name": "#%%\n"
    }
   }
  },
  {
   "cell_type": "code",
   "execution_count": 9,
   "outputs": [],
   "source": [
    "elbow = elbow_method('./kmeans_models/k_means_CPU_memory')\n",
    "plot_silhouette(elbow, ylabel='Inertia', title='Elbow method', savefig='Clustering/elbow_CPU_memory')"
   ],
   "metadata": {
    "collapsed": false,
    "pycharm": {
     "name": "#%%\n"
    }
   }
  },
  {
   "cell_type": "code",
   "execution_count": 10,
   "outputs": [],
   "source": [
    "elbow = elbow_method('./kmeans_models/k_means_memory')\n",
    "plot_silhouette(elbow, ylabel='Inertia', title='Elbow method', savefig='Clustering/elbow_memory')"
   ],
   "metadata": {
    "collapsed": false,
    "pycharm": {
     "name": "#%%\n"
    }
   }
  },
  {
   "cell_type": "code",
   "execution_count": 8,
   "outputs": [],
   "source": [
    "%matplotlib inline"
   ],
   "metadata": {
    "collapsed": false,
    "pycharm": {
     "name": "#%%\n"
    }
   }
  },
  {
   "cell_type": "markdown",
   "source": [
    "## Assign each VM to its cluster"
   ],
   "metadata": {
    "collapsed": false,
    "pycharm": {
     "name": "#%% md\n"
    }
   }
  },
  {
   "cell_type": "code",
   "execution_count": 13,
   "outputs": [],
   "source": [
    "n_clusters = 4\n",
    "clusters = load_clusters(VMs, labels, n_clusters=n_clusters)"
   ],
   "metadata": {
    "collapsed": false,
    "pycharm": {
     "name": "#%%\n"
    }
   }
  },
  {
   "cell_type": "code",
   "execution_count": 14,
   "outputs": [],
   "source": [
    "VMs_CPU = [VM[['CPU usage [MHZ]']] for VM in VMs]\n",
    "clusters_CPU = [cluster[['CPU usage [MHZ]']] for cluster in clusters]\n",
    "save_path = 'Clustering/kmeans{}_filter/CPU'.format(n_clusters)\n",
    "plot_clusters(VMs_CPU,\n",
    "              labels,\n",
    "              clusters_CPU,\n",
    "              n_clusters=n_clusters,\n",
    "              shared_axis=True,\n",
    "              filters=True,\n",
    "              marker='ko',\n",
    "              title='Average CPU usage',\n",
    "              ylabel='CPU usage [MHZ]',\n",
    "              figsize=(13, 5),\n",
    "              savefig=None)"
   ],
   "metadata": {
    "collapsed": false,
    "pycharm": {
     "name": "#%%\n"
    }
   }
  },
  {
   "cell_type": "code",
   "execution_count": 9,
   "outputs": [],
   "source": [
    "%matplotlib qt"
   ],
   "metadata": {
    "collapsed": false,
    "pycharm": {
     "name": "#%%\n"
    }
   }
  },
  {
   "cell_type": "code",
   "execution_count": 105,
   "outputs": [],
   "source": [
    "# Plot memory utilization and save it\n",
    "VMs_memory = [VM[['Memory usage [KB]']] for VM in VMs]\n",
    "clusters_memory = [cluster[['Memory usage [KB]']] for cluster in clusters]\n",
    "save_path = 'Clustering/kmeans{}/memory'.format(n_clusters)\n",
    "plot_clusters(VMs_memory,\n",
    "              labels,\n",
    "              clusters_memory,\n",
    "              n_clusters=n_clusters,\n",
    "              shared_axis=False,\n",
    "              filters=False,\n",
    "              title='Average Memory usage',\n",
    "              ylabel='Memory usage [KB]',\n",
    "              savefig=save_path)"
   ],
   "metadata": {
    "collapsed": false,
    "pycharm": {
     "name": "#%%\n"
    }
   }
  },
  {
   "cell_type": "code",
   "execution_count": 106,
   "outputs": [],
   "source": [
    "VMs_CPU_pct = [VM[['CPU usage [%]']] for VM in VMs]\n",
    "clusters_CPU_pct = [cluster[['CPU usage [%]']] for cluster in clusters]\n",
    "save_path = 'Clustering/kmeans{}/CPU_pct'.format(n_clusters)\n",
    "plot_clusters(VMs_CPU_pct,\n",
    "              labels,\n",
    "              clusters_CPU_pct,\n",
    "              n_clusters=n_clusters,\n",
    "              shared_axis=False,\n",
    "              filters=False,\n",
    "              title='Average CPU usage',\n",
    "              ylabel='CPU usage [%]',\n",
    "              savefig=save_path)"
   ],
   "metadata": {
    "collapsed": false,
    "pycharm": {
     "name": "#%%\n"
    }
   }
  },
  {
   "cell_type": "code",
   "execution_count": 107,
   "outputs": [],
   "source": [
    "VMs_memory_pct = [VM[['Memory usage [%]']] for VM in VMs]\n",
    "clusters_memory_pct = [cluster[['Memory usage [%]']] for cluster in clusters]\n",
    "save_path = 'Clustering/kmeans{}/memory_pct'.format(n_clusters)\n",
    "plot_clusters(VMs_memory_pct,\n",
    "              labels,\n",
    "              clusters_memory_pct,\n",
    "              n_clusters=n_clusters,\n",
    "              shared_axis=False,\n",
    "              filters=False,\n",
    "              title='Average Memory usage',\n",
    "              ylabel='Memory usage [%]',\n",
    "              savefig=save_path)"
   ],
   "metadata": {
    "collapsed": false,
    "pycharm": {
     "name": "#%%\n"
    }
   }
  },
  {
   "cell_type": "markdown",
   "source": [
    "## Clustering the big cluster"
   ],
   "metadata": {
    "collapsed": false
   }
  },
  {
   "cell_type": "code",
   "execution_count": 60,
   "outputs": [],
   "source": [
    "big_cluster = [VM for idx, VM in enumerate(VMs) if labels[idx] == 0]"
   ],
   "metadata": {
    "collapsed": false,
    "pycharm": {
     "name": "#%%\n"
    }
   }
  },
  {
   "cell_type": "code",
   "execution_count": 61,
   "outputs": [],
   "source": [
    "# Select only one feature & shorten the series due to time limitation\n",
    "features = ['CPU usage [MHZ]', 'Memory usage [KB]']\n",
    "VMs_fs_ts, VMs_fs_short_ts = clustering_preprocessing(big_cluster, features= features, length= 500)"
   ],
   "metadata": {
    "collapsed": false,
    "pycharm": {
     "name": "#%%\n"
    }
   }
  },
  {
   "cell_type": "code",
   "execution_count": null,
   "outputs": [],
   "source": [
    "sil_score = optimal_clusters(big_cluster, features, './kmeans_models/big_cluster')"
   ],
   "metadata": {
    "collapsed": false,
    "pycharm": {
     "name": "#%%\n"
    }
   }
  },
  {
   "cell_type": "code",
   "execution_count": null,
   "outputs": [],
   "source": [
    "sil_score = get_silhouette_from_models('./kmeans_models/big_cluster', VMs_fs_short_ts)"
   ],
   "metadata": {
    "collapsed": false,
    "pycharm": {
     "name": "#%%\n"
    }
   }
  },
  {
   "cell_type": "code",
   "execution_count": 20,
   "outputs": [],
   "source": [
    "# Save sil_score in a file\n",
    "save_path = os.path.join('./kmeans_models/big_cluster', 'sil_score.txt')\n",
    "try:\n",
    "    f = open(save_path, \"w\")\n",
    "except OSError:\n",
    "    print(\"Error: File could not be opened\")\n",
    "for element in sil_score:\n",
    "    f.write(str(element) + '\\n')\n",
    "f.close()"
   ],
   "metadata": {
    "collapsed": false,
    "pycharm": {
     "name": "#%%\n"
    }
   }
  },
  {
   "cell_type": "code",
   "execution_count": 62,
   "outputs": [
    {
     "name": "stderr",
     "output_type": "stream",
     "text": [
      "[Parallel(n_jobs=-1)]: Using backend ThreadingBackend with 8 concurrent workers.\n",
      "[Parallel(n_jobs=-1)]: Done  34 tasks      | elapsed:    0.0s\n",
      "[Parallel(n_jobs=-1)]: Done 184 tasks      | elapsed:    0.0s\n",
      "[Parallel(n_jobs=-1)]: Done 434 tasks      | elapsed:    0.2s\n",
      "[Parallel(n_jobs=-1)]: Done 784 tasks      | elapsed:    0.4s\n",
      "[Parallel(n_jobs=-1)]: Done 1234 tasks      | elapsed:    0.7s\n",
      "[Parallel(n_jobs=-1)]: Done 1784 tasks      | elapsed:    1.0s\n",
      "[Parallel(n_jobs=-1)]: Done 2434 tasks      | elapsed:    1.5s\n",
      "[Parallel(n_jobs=-1)]: Done 3184 tasks      | elapsed:    1.9s\n",
      "[Parallel(n_jobs=-1)]: Done 3357 out of 3357 | elapsed:    2.0s finished\n"
     ]
    }
   ],
   "source": [
    "n_clusters = 2\n",
    "new_labels = split_cluster(VMs,\n",
    "                           labels,\n",
    "                           model_big_cluster='./kmeans_models/big_cluster/kmeans_3.hdf5',\n",
    "                           n_clusters=n_clusters,\n",
    "                           big_cluster_num=0,\n",
    "                           features=features)"
   ],
   "metadata": {
    "collapsed": false,
    "pycharm": {
     "name": "#%%\n"
    }
   }
  },
  {
   "cell_type": "code",
   "execution_count": 63,
   "outputs": [],
   "source": [
    "labels[labels==4] = 0"
   ],
   "metadata": {
    "collapsed": false,
    "pycharm": {
     "name": "#%%\n"
    }
   }
  },
  {
   "cell_type": "code",
   "execution_count": 66,
   "outputs": [],
   "source": [
    "# Plot silhouette\n",
    "plot_silhouette(sil_score, title='K-means big cluster', savefig=None)"
   ],
   "metadata": {
    "collapsed": false,
    "pycharm": {
     "name": "#%%\n"
    }
   }
  },
  {
   "cell_type": "markdown",
   "source": [
    "## How shorten series looks like"
   ],
   "metadata": {
    "collapsed": false
   }
  },
  {
   "cell_type": "code",
   "execution_count": 3,
   "outputs": [],
   "source": [
    "# Select relevant features for clustering\n",
    "VMs_fs = [VM[['CPU usage [MHZ]']] for VM in VMs]\n",
    "idxs = [8,9,10,21,30,42,43,72,89,103,112,180]\n",
    "# Select VMs\n",
    "VMs_fs = [VM for i, VM in enumerate(VMs_fs) if i in idxs]\n",
    "Vms_ts = to_time_series_dataset(VMs_fs)"
   ],
   "metadata": {
    "collapsed": false,
    "pycharm": {
     "name": "#%%\n"
    }
   }
  },
  {
   "cell_type": "code",
   "execution_count": 4,
   "outputs": [],
   "source": [
    "VM_short = TimeSeriesResampler(sz=500).fit_transform(Vms_ts)"
   ],
   "metadata": {
    "collapsed": false,
    "pycharm": {
     "name": "#%%\n"
    }
   }
  },
  {
   "cell_type": "code",
   "execution_count": 6,
   "outputs": [],
   "source": [
    "%matplotlib qt\n",
    "# Take a look at shorten series\n",
    "for idx,VM in enumerate(VMs_fs):\n",
    "    plt.figure(figsize=(16,6))\n",
    "    plt.tight_layout()\n",
    "    plt.subplot(1,2,1)\n",
    "    plt.tight_layout()\n",
    "    plt.plot(Vms_ts[idx].ravel())\n",
    "    plt.title('Original Time Series', fontsize=12)\n",
    "    plt.xlabel('# Timestamps', fontsize=10)\n",
    "    plt.ylabel('CPU usage [MHz]', fontsize=10)\n",
    "    plt.subplot(1,2,2)\n",
    "    plt.tight_layout()\n",
    "    plt.plot(VM_short[idx].ravel(), color='tab:red')\n",
    "    plt.title('Shortened Time Series', fontsize=12)\n",
    "    plt.xlabel('# Timestamps', fontsize=10)\n",
    "    plt.ylabel('CPU usage [MHz]', fontsize=10)\n",
    "# plt.legend()"
   ],
   "metadata": {
    "collapsed": false,
    "pycharm": {
     "name": "#%%\n"
    }
   }
  },
  {
   "cell_type": "markdown",
   "source": [],
   "metadata": {
    "collapsed": false
   }
  },
  {
   "cell_type": "markdown",
   "source": [
    "## Playing"
   ],
   "metadata": {
    "collapsed": false,
    "pycharm": {
     "name": "#%% md\n"
    }
   }
  },
  {
   "cell_type": "code",
   "execution_count": 23,
   "outputs": [],
   "source": [
    "VM_name = '805.csv'\n",
    "VM_path = os.path.join(DATA_PATH, VM_name)\n",
    "# Read time series of each Virtual Machine (VM)\n",
    "VM = pd.read_csv(VM_path, sep=';\\t', engine='python')"
   ],
   "metadata": {
    "collapsed": false,
    "pycharm": {
     "name": "#%%\n"
    }
   }
  },
  {
   "cell_type": "code",
   "execution_count": 24,
   "outputs": [
    {
     "data": {
      "text/plain": "<AxesSubplot:>"
     },
     "execution_count": 24,
     "metadata": {},
     "output_type": "execute_result"
    }
   ],
   "source": [
    "VM.plot()"
   ],
   "metadata": {
    "collapsed": false,
    "pycharm": {
     "name": "#%%\n"
    }
   }
  },
  {
   "cell_type": "code",
   "execution_count": null,
   "outputs": [],
   "source": [],
   "metadata": {
    "collapsed": false,
    "pycharm": {
     "name": "#%%\n"
    }
   }
  }
 ],
 "metadata": {
  "kernelspec": {
   "display_name": "Python 3",
   "language": "python",
   "name": "python3"
  },
  "language_info": {
   "codemirror_mode": {
    "name": "ipython",
    "version": 2
   },
   "file_extension": ".py",
   "mimetype": "text/x-python",
   "name": "python",
   "nbconvert_exporter": "python",
   "pygments_lexer": "ipython2",
   "version": "2.7.6"
  }
 },
 "nbformat": 4,
 "nbformat_minor": 0
}