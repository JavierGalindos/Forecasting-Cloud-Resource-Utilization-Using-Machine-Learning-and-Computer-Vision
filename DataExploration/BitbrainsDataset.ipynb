{
 "cells": [
  {
   "cell_type": "markdown",
   "metadata": {
    "collapsed": true,
    "pycharm": {
     "name": "#%% md\n"
    }
   },
   "source": [
    "# Bitbrains Dataset Exploration"
   ]
  },
  {
   "cell_type": "code",
   "execution_count": 1,
   "outputs": [],
   "source": [
    "import matplotlib. pyplot as plt\n",
    "import os\n",
    "import numpy as np\n",
    "import pandas as pd"
   ],
   "metadata": {
    "collapsed": false,
    "pycharm": {
     "name": "#%%\n"
    }
   }
  },
  {
   "cell_type": "markdown",
   "source": [
    "## Generate a Figure per VM"
   ],
   "metadata": {
    "collapsed": false
   }
  },
  {
   "cell_type": "markdown",
   "source": [
    "## CPU Utilization"
   ],
   "metadata": {
    "collapsed": false
   }
  },
  {
   "cell_type": "code",
   "execution_count": 31,
   "outputs": [],
   "source": [
    "# CPU utilization\n",
    "# New figure each VMs\n",
    "# Get all the series\n",
    "dataset_path = r'../Datasets/fastStorage/2013-8'\n",
    "figures_path = '../Figures/DataExploration/CPU_utilization'\n",
    "files = os.listdir(dataset_path)  # Get all the files in that directory\n",
    "\n",
    "for idx,serie in enumerate(files):\n",
    "    VM_path = os.path.join(dataset_path, serie)\n",
    "    # Read time series of each Virtual Machine (VM)\n",
    "    VM = pd.read_csv(VM_path,sep=';\\t', index_col=0, parse_dates=True, squeeze=True, engine='python')\n",
    "    fig = plt.figure(figsize=(10, 5), dpi=150)\n",
    "    #plt.ion()\n",
    "    VM['CPU usage [%]'].plot(label='Raw data')\n",
    "    VM['CPU usage [%]'].rolling(window = 10).mean().plot(label='MA(10) filter')\n",
    "    plt.legend()\n",
    "    plt.title('CPU usage')\n",
    "    plt.ylabel(\"CPU usage [%]\")\n",
    "    plt.title('CPU usage %s' %str(idx))\n",
    "    save_path = os.path.join(figures_path,\"VM%s\"%str(idx))\n",
    "    plt.savefig(save_path, bbox_inches='tight')\n",
    "    plt.close(fig)"
   ],
   "metadata": {
    "collapsed": false,
    "pycharm": {
     "name": "#%%\n"
    }
   }
  },
  {
   "cell_type": "markdown",
   "source": [
    "### Memory utilization"
   ],
   "metadata": {
    "collapsed": false
   }
  },
  {
   "cell_type": "code",
   "execution_count": 32,
   "outputs": [],
   "source": [
    "# Memory utilization\n",
    "# New figure each VM\n",
    "# Get all the series\n",
    "dataset_path = r'../Datasets/fastStorage/2013-8'\n",
    "figures_path = '../Figures/DataExploration/memory_utilization'\n",
    "files = os.listdir(dataset_path)  # Get all the files in that directory\n",
    "for idx,serie in enumerate(files):\n",
    "    VM_path = os.path.join(dataset_path, serie)\n",
    "    # Read time series of each Virtual Machine (VM)\n",
    "    VM = pd.read_csv(VM_path,sep=';\\t', index_col=0, parse_dates=True, squeeze=True, engine='python')\n",
    "    # Create new variable memory usage in %\n",
    "    VM['Memory usage [%]'] = VM['Memory usage [KB]'] * 100 / VM['Memory capacity provisioned [KB]']\n",
    "    # Avoid division by 0\n",
    "    VM['Memory usage [%]'] = VM['Memory usage [%]'].fillna(0)\n",
    "    fig = plt.figure(figsize=(10, 5), dpi=150)\n",
    "    VM['Memory usage [%]'].plot(label='Raw data')\n",
    "    VM['Memory usage [%]'].rolling(window = 10).mean().plot(label='MA(10) filter')\n",
    "    plt.legend()\n",
    "    plt.ylabel('Memory usage [%]')\n",
    "    plt.ylim((0,125))\n",
    "    plt.title('Memory usage %s' %str(idx))\n",
    "    save_path = os.path.join(figures_path,\"VM%s\"%str(idx))\n",
    "    plt.savefig(save_path, bbox_inches='tight')\n",
    "    plt.close(fig)"
   ],
   "metadata": {
    "collapsed": false,
    "pycharm": {
     "name": "#%%\n"
    }
   }
  },
  {
   "cell_type": "markdown",
   "source": [
    "## Duration of jobs"
   ],
   "metadata": {
    "collapsed": false
   }
  },
  {
   "cell_type": "code",
   "source": [
    "# Get all the series\n",
    "dataset_path = r'../Datasets/fastStorage/2013-8'\n",
    "files = os.listdir(dataset_path)  # Get all the files in that directory\n",
    "duration_jobs = np.zeros(len(files))\n",
    "for idx,serie in enumerate(files):\n",
    "    VM_path = os.path.join(dataset_path, serie)\n",
    "    # Read time series of each Virtual Machine (VM)\n",
    "    VM = pd.read_csv(VM_path,sep=';\\t', index_col=0, parse_dates=True, squeeze=True, engine='python')\n",
    "    # Parse time\n",
    "    time = (VM.index[len(VM)-1] - VM.index[0]) / (1000*60)\n",
    "    duration_jobs[idx] = time\n",
    "\n",
    "# Generate plot\n",
    "fig = plt.figure(figsize=(10, 5), dpi=150)\n",
    "plt.bar(np.arange(1250),duration_jobs)\n",
    "plt.title(\"Duration of jobs\")\n",
    "plt.xlabel('Virtual machine')\n",
    "plt.ylabel('Duration job [min]')\n",
    "plt.show()"
   ],
   "metadata": {
    "collapsed": false,
    "pycharm": {
     "name": "#%%\n"
    }
   },
   "execution_count": 2,
   "outputs": [
    {
     "data": {
      "text/plain": "<Figure size 1500x750 with 1 Axes>",
      "image/png": "[encoded data removed]"
     },
     "metadata": {
      "needs_background": "light"
     },
     "output_type": "display_data"
    }
   ]
  },
  {
   "cell_type": "markdown",
   "source": [
    "## Check for duplicates"
   ],
   "metadata": {
    "collapsed": false,
    "pycharm": {
     "name": "#%% md\n"
    }
   }
  },
  {
   "cell_type": "code",
   "execution_count": 5,
   "outputs": [
    {
     "name": "stdout",
     "output_type": "stream",
     "text": [
      "(16140, 10)\n",
      "12340\n"
     ]
    }
   ],
   "source": [
    "VM_path = '../Datasets/fastStorage/2013-8/10.csv'\n",
    "VM = pd.read_csv(VM_path,sep=';\\t', index_col=0, parse_dates=True, squeeze=True, engine='python')\n",
    "print(VM.shape)\n",
    "print(len(VM.index.unique()))"
   ],
   "metadata": {
    "collapsed": false,
    "pycharm": {
     "name": "#%%\n"
    }
   }
  },
  {
   "cell_type": "code",
   "execution_count": 6,
   "outputs": [
    {
     "data": {
      "text/plain": "False"
     },
     "execution_count": 6,
     "metadata": {},
     "output_type": "execute_result"
    }
   ],
   "source": [
    "# Group by index and average\n",
    "VM = VM.groupby(VM.index).mean()\n",
    "VM.index.has_duplicates"
   ],
   "metadata": {
    "collapsed": false,
    "pycharm": {
     "name": "#%%\n"
    }
   }
  },
  {
   "cell_type": "markdown",
   "source": [
    "## Data center dataframe"
   ],
   "metadata": {
    "collapsed": false
   }
  },
  {
   "cell_type": "code",
   "execution_count": 7,
   "outputs": [],
   "source": [
    "# New dataframe\n",
    "Datacenter = pd.DataFrame()\n",
    "# Get all the series\n",
    "dataset_path = r'../Datasets/fastStorage/2013-8'\n",
    "files = os.listdir(dataset_path)  # Get all the files in that directory\n",
    "for serie in files:\n",
    "    VM_path = os.path.join(dataset_path, serie)\n",
    "    # Read time series of each Virtual Machine (VM)\n",
    "    VM = pd.read_csv(VM_path,sep=';\\t', index_col=0, parse_dates=True, squeeze=True, engine='python')\n",
    "    # Create new variable memory usage in %\n",
    "    VM['Memory usage [%]'] = VM['Memory usage [KB]'] * 100 / VM['Memory capacity provisioned [KB]']\n",
    "    # Avoid division by 0\n",
    "    VM['Memory usage [%]'] = VM['Memory usage [%]'].fillna(0)\n",
    "    # Average duplicates\n",
    "    # Group by index and average\n",
    "    VM = VM.groupby(VM.index).mean()\n",
    "    Datacenter = pd.concat([Datacenter, VM]).groupby('Timestamp [ms]').sum()"
   ],
   "metadata": {
    "collapsed": false,
    "pycharm": {
     "name": "#%%\n"
    }
   }
  },
  {
   "cell_type": "code",
   "execution_count": 8,
   "outputs": [],
   "source": [
    "# Fix percentages\n",
    "Datacenter['CPU usage [%]'] = Datacenter['CPU usage [%]']  / 1250\n",
    "Datacenter['Memory usage [%]'] = Datacenter['Memory usage [%]']  / 1250"
   ],
   "metadata": {
    "collapsed": false,
    "pycharm": {
     "name": "#%%\n"
    }
   }
  },
  {
   "cell_type": "code",
   "execution_count": 24,
   "outputs": [],
   "source": [
    "# Generate figures\n",
    "figures_path = '../Figures/DataExploration/CPU_utilization'\n",
    "fig = plt.figure(figsize=(8, 6), dpi=120)\n",
    "Datacenter['CPU usage [%]'].plot(label='Raw data')\n",
    "Datacenter['CPU usage [%]'].rolling(window = 10).mean().plot(label='MA(10) filter')\n",
    "plt.legend()\n",
    "plt.ylabel('CPU usage [%]')\n",
    "plt.title('CPU usage Datacenter')\n",
    "save_path = os.path.join(figures_path,\"Datacenter\")\n",
    "plt.savefig(save_path, bbox_inches='tight')\n",
    "plt.close(fig)\n",
    "figures_path = '../Figures/DataExploration/memory_utilization'\n",
    "fig = plt.figure(figsize=(8, 6), dpi=120)\n",
    "Datacenter['Memory usage [%]'].plot(label='Raw data')\n",
    "Datacenter['Memory usage [%]'].rolling(window = 10).mean().plot(label='MA(10) filter')\n",
    "plt.legend()\n",
    "plt.ylabel('Memory usage [%]')\n",
    "plt.title('Memory usage Datacenter')\n",
    "save_path = os.path.join(figures_path,\"Datacenter\")\n",
    "plt.savefig(save_path, bbox_inches='tight')\n",
    "plt.close(fig)"
   ],
   "metadata": {
    "collapsed": false,
    "pycharm": {
     "name": "#%%\n"
    }
   }
  },
  {
   "cell_type": "markdown",
   "source": [
    "## One dataframe each 100 VMs"
   ],
   "metadata": {
    "collapsed": false,
    "pycharm": {
     "name": "#%% md\n"
    }
   }
  },
  {
   "cell_type": "code",
   "execution_count": 16,
   "outputs": [],
   "source": [
    "# New dataframe\n",
    "Datacenters = {}\n",
    "# Get all the series\n",
    "dataset_path = r'../Datasets/fastStorage/2013-8'\n",
    "files = os.listdir(dataset_path)  # Get all the files in that directory\n",
    "idx = 0\n",
    "center = 0\n",
    "Datacenter = pd.DataFrame()\n",
    "for serie in files:\n",
    "    if idx == 100:\n",
    "        # Fix percentage\n",
    "        Datacenter['CPU usage [%]'] = Datacenter['CPU usage [%]']  / 100\n",
    "        Datacenter['Memory usage [%]'] = Datacenter['Memory usage [%]']  / 100\n",
    "        Datacenters[center] = Datacenter\n",
    "        Datacenter = pd.DataFrame()\n",
    "        center += 1\n",
    "        idx = 0\n",
    "    VM_path = os.path.join(dataset_path, serie)\n",
    "    # Read time series of each Virtual Machine (VM)\n",
    "    VM = pd.read_csv(VM_path, sep=';\\t', index_col=0, parse_dates=True, squeeze=True, engine='python')\n",
    "    # Create new variable memory usage in %\n",
    "    VM['Memory usage [%]'] = VM['Memory usage [KB]'] * 100 / VM['Memory capacity provisioned [KB]']\n",
    "    # Avoid divion by 0\n",
    "    VM['Memory usage [%]'] = VM['Memory usage [%]'].fillna(0)\n",
    "    # Average duplicates\n",
    "    # Group by index and average\n",
    "    VM = VM.groupby(VM.index).mean()\n",
    "    Datacenter = pd.concat([Datacenter, VM]).groupby('Timestamp [ms]').sum()\n",
    "    idx += 1"
   ],
   "metadata": {
    "collapsed": false,
    "pycharm": {
     "name": "#%%\n"
    }
   }
  },
  {
   "cell_type": "code",
   "execution_count": 25,
   "outputs": [],
   "source": [
    "# Generate plots and save images\n",
    "#CPU utilization\n",
    "figures_path = '../Figures/DataExploration/CPU_utilization'\n",
    "for key, datacenter in Datacenters.items():\n",
    "    # the image has the default dimensions and resolution given by matplotlib\n",
    "    # default figsize is (8,6)\n",
    "    fig = plt.figure(figsize=(8, 6), dpi=120)\n",
    "    datacenter['CPU usage [%]'].plot(label='Raw data')\n",
    "    datacenter['CPU usage [%]'].rolling(window = 10).mean().plot(label='MA(10) filter')\n",
    "    plt.legend()\n",
    "    plt.ylabel('CPU usage [%]')\n",
    "    plt.title('CPU usage DC%s' %str(key))\n",
    "    save_path = os.path.join(figures_path,\"DC%s\"%str(key))\n",
    "    plt.savefig(save_path, bbox_inches='tight')\n",
    "    plt.close(fig)"
   ],
   "metadata": {
    "collapsed": false,
    "pycharm": {
     "name": "#%%\n"
    }
   }
  },
  {
   "cell_type": "code",
   "execution_count": 27,
   "outputs": [],
   "source": [
    "#Memory utilization\n",
    "figures_path = '../Figures/DataExploration/memory_utilization'\n",
    "for key, datacenter in Datacenters.items():\n",
    "    # the image has the default dimensions and resolution given by matplotlib\n",
    "    # default figsize is (8,6)\n",
    "    fig = plt.figure(figsize=(8, 6), dpi=120)\n",
    "    datacenter['Memory usage [%]'].plot(label='Raw data')\n",
    "    datacenter['Memory usage [%]'].rolling(window = 10).mean().plot(label='MA(10) filter')\n",
    "    plt.legend()\n",
    "    plt.ylim((0,125))\n",
    "    plt.ylabel('Memory usage [%]')\n",
    "    plt.title('Memory usage DC%s' %str(key))\n",
    "    save_path = os.path.join(figures_path,\"DC%s\"%str(key))\n",
    "    plt.savefig(save_path, bbox_inches='tight')\n",
    "    plt.close(fig)"
   ],
   "metadata": {
    "collapsed": false,
    "pycharm": {
     "name": "#%%\n"
    }
   }
  },
  {
   "cell_type": "code",
   "execution_count": 29,
   "outputs": [],
   "source": [
    "%matplotlib inline"
   ],
   "metadata": {
    "collapsed": false,
    "pycharm": {
     "name": "#%%\n"
    }
   }
  }
 ],
 "metadata": {
  "kernelspec": {
   "display_name": "Python 3",
   "language": "python",
   "name": "python3"
  },
  "language_info": {
   "codemirror_mode": {
    "name": "ipython",
    "version": 2
   },
   "file_extension": ".py",
   "mimetype": "text/x-python",
   "name": "python",
   "nbconvert_exporter": "python",
   "pygments_lexer": "ipython2",
   "version": "2.7.6"
  }
 },
 "nbformat": 4,
 "nbformat_minor": 0
}