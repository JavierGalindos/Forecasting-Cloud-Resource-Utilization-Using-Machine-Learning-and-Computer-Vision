{
 "cells": [
  {
   "cell_type": "code",
   "execution_count": 1,
   "metadata": {
    "collapsed": true
   },
   "outputs": [
    {
     "name": "stdout",
     "output_type": "stream",
     "text": [
      "figures saved to ../Figures/Modeling/LSTM\n",
      "figures saved to ../Figures/Modeling/ConvLSTM\n",
      "figures saved to ../Datasets/fastStorage/images\n"
     ]
    }
   ],
   "source": [
    "import pandas as pd\n",
    "\n",
    "from LSTM import *\n",
    "from ConvLSTM import *"
   ]
  },
  {
   "cell_type": "code",
   "execution_count": 9,
   "outputs": [],
   "source": [
    "test_df = pd.read_csv('./logs/LSTM/917/CM_340/test.csv', index_col=0)\n",
    "test_df = test_df / 1000\n",
    "pred_df = pd.read_csv('./logs/LSTM/917/CM_340/pred.csv', index_col=0)\n",
    "pred_df = pred_df / 1000"
   ],
   "metadata": {
    "collapsed": false,
    "pycharm": {
     "name": "#%%\n"
    }
   }
  },
  {
   "cell_type": "code",
   "execution_count": 3,
   "outputs": [
    {
     "data": {
      "text/plain": "<matplotlib.legend.Legend at 0x15f2ed220>"
     },
     "execution_count": 3,
     "metadata": {},
     "output_type": "execute_result"
    }
   ],
   "source": [
    "%matplotlib tk\n",
    "# Figure forecast\n",
    "# Define default kwargs\n",
    "defaultKwargs = {'marker': 'o',\n",
    "                 'linestyle': '-',\n",
    "                 'alpha': 0.3,\n",
    "                 'markersize': 2,\n",
    "                 'linewidth': 2.0,\n",
    "                 }\n",
    "kwargs_forecast = {'marker': 'o',\n",
    "                   'linestyle': '-',\n",
    "                   'alpha': 0.5,\n",
    "                   'markersize': 2,\n",
    "                   'color': 'tab:green',\n",
    "                   'linewidth': 2.0,\n",
    "                   }\n",
    "\n",
    "# Figure zoom\n",
    "fig = plt.figure(dpi=200, figsize=(15, 2))\n",
    "# plt.grid()\n",
    "test_df['CPU usage [MHZ]'].plot(label='actual', color='tab:grey', **defaultKwargs)\n",
    "pred_df['CPU usage [MHZ]'].plot(label='forecast', **kwargs_forecast)\n",
    "plt.ylabel('CPU usage [MHz]')\n",
    "plt.title(f'LSTM')\n",
    "# plt.grid()\n",
    "plt.legend()\n",
    "# save_path = os.path.join(FIGURES_PATH, self.model_name, self.name, 'forecast_zoom')\n",
    "# plt.savefig(save_path, bbox_inches='tight')\n",
    "# plt.close(fig)"
   ],
   "metadata": {
    "collapsed": false,
    "pycharm": {
     "name": "#%%\n"
    }
   }
  },
  {
   "cell_type": "code",
   "execution_count": 10,
   "outputs": [],
   "source": [
    "test_df_ConvLSTM = pd.read_csv('./logs/ConvLSTM/video/917/CM_340/test.csv', index_col=0)\n",
    "test_df_ConvLSTM = test_df_ConvLSTM / 1000\n",
    "pred_df_ConvLSTM = pd.read_csv('./logs/ConvLSTM/video/917/CM_340/pred.csv', index_col=0)\n",
    "pred_df_ConvLSTM = pred_df_ConvLSTM / 1000"
   ],
   "metadata": {
    "collapsed": false,
    "pycharm": {
     "name": "#%%\n"
    }
   }
  },
  {
   "cell_type": "code",
   "execution_count": 5,
   "outputs": [
    {
     "data": {
      "text/plain": "<matplotlib.legend.Legend at 0x122f260a0>"
     },
     "execution_count": 5,
     "metadata": {},
     "output_type": "execute_result"
    }
   ],
   "source": [
    "%matplotlib tk\n",
    "# Figure forecast\n",
    "# Define default kwargs\n",
    "defaultKwargs = {'marker': 'o',\n",
    "                 'linestyle': '-',\n",
    "                 'alpha': 0.3,\n",
    "                 'markersize': 2,\n",
    "                 'linewidth': 2.0,\n",
    "                 }\n",
    "kwargs_forecast = {'marker': 'o',\n",
    "                   'linestyle': '-',\n",
    "                   'alpha': 0.5,\n",
    "                   'markersize': 2,\n",
    "                   'color': 'tab:green',\n",
    "                   'linewidth': 2.0,\n",
    "                   }\n",
    "\n",
    "# Figure zoom\n",
    "fig = plt.figure(dpi=200, figsize=(15, 2))\n",
    "# plt.grid()\n",
    "test_df['CPU usage [MHZ]'].plot(label='actual', color='tab:grey', **defaultKwargs)\n",
    "pred_df['CPU usage [MHZ]'].plot(label='forecast', **kwargs_forecast)\n",
    "plt.ylabel('CPU usage [MHz]')\n",
    "plt.title(f'ConvLSTM')\n",
    "# plt.grid()\n",
    "plt.legend()\n",
    "# save_path = os.path.join(FIGURES_PATH, self.model_name, self.name, 'forecast_zoom')\n",
    "# plt.savefig(save_path, bbox_inches='tight')\n",
    "# plt.close(fig)"
   ],
   "metadata": {
    "collapsed": false,
    "pycharm": {
     "name": "#%%\n"
    }
   }
  },
  {
   "cell_type": "markdown",
   "source": [
    "# Two in same figure"
   ],
   "metadata": {
    "collapsed": false
   }
  },
  {
   "cell_type": "code",
   "execution_count": 11,
   "outputs": [],
   "source": [
    "%matplotlib inline\n",
    "# Sinus type: 6500:7500 6500:7000\n",
    "# Random: [4000:8000]4000:6000\n",
    "# Previous size 20,8\n",
    "plt.rcParams['font.size'] = '25'\n",
    "# Construct a figure for the original and new frames.\n",
    "fig, axes = plt.subplots(2, 1, figsize=(10, 8))\n",
    "# plt.suptitle('Test set: GT vs prediction', fontsize=16)\n",
    "# Ground Truth\n",
    "axes[0].plot(test_df['CPU usage [MHZ]'][6500:7000], label='actual', color='tab:grey', **defaultKwargs)\n",
    "axes[0].plot(pred_df['CPU usage [MHZ]'][6500:7000], label='forecast', **kwargs_forecast)\n",
    "axes[0].set_title('LSTM')\n",
    "axes[0].set_ylabel('CPU usage [GHz]')\n",
    "axes[0].legend(bbox_to_anchor=(1, 1.5))\n",
    "axes[0].tick_params(\n",
    "    axis='x',          # changes apply to the x-axis\n",
    "    which='both',      # both major and minor ticks are affected\n",
    "    bottom=False,      # ticks along the bottom edge are off\n",
    "    top=False,         # ticks along the top edge are off\n",
    "    labelbottom=False) # labels along the bottom edge are off\n",
    "# Prediction\n",
    "axes[1].plot(test_df_ConvLSTM['CPU usage [MHZ]'][6500:7000], label='actual', color='tab:grey', **defaultKwargs)\n",
    "axes[1].plot(pred_df_ConvLSTM['CPU usage [MHZ]'][6500:7000], label='forecast', **kwargs_forecast)\n",
    "axes[1].set_title('ConvLSTM')\n",
    "axes[1].set_ylabel('CPU usage [GHz]')\n",
    "axes[1].set_xlabel('Time')\n",
    "# axes[1].legend(loc='upper right')\n",
    "axes[1].tick_params(\n",
    "    axis='x',          # changes apply to the x-axis\n",
    "    which='both',      # both major and minor ticks are affected\n",
    "    bottom=False,      # ticks along the bottom edge are off\n",
    "    top=False,         # ticks along the top edge are off\n",
    "    labelbottom=False) # labels along the bottom edge are off\n",
    "save_path = os.path.join('../Figures/Modeling/Thesis', 'CM340_2.pdf')\n",
    "plt.savefig(save_path, bbox_inches='tight')\n",
    "plt.close(fig)"
   ],
   "metadata": {
    "collapsed": false,
    "pycharm": {
     "name": "#%%\n"
    }
   }
  },
  {
   "cell_type": "markdown",
   "source": [
    "# Detail view. Fh 16"
   ],
   "metadata": {
    "collapsed": false
   }
  },
  {
   "cell_type": "code",
   "execution_count": 30,
   "outputs": [],
   "source": [
    "test_df = pd.read_csv('./logs/ConvLSTM/video/917/labels_16/test.csv', index_col=0)\n",
    "test_df = test_df / 1000\n",
    "pred_df = pd.read_csv('./logs/ConvLSTM/video/917/labels_16/pred.csv', index_col=0)\n",
    "pred_df = pred_df / 1000"
   ],
   "metadata": {
    "collapsed": false,
    "pycharm": {
     "name": "#%%\n"
    }
   }
  },
  {
   "cell_type": "code",
   "execution_count": 42,
   "outputs": [],
   "source": [
    "test_df = pd.read_csv('./logs/LSTM/917/labels_16/test.csv', index_col=0)\n",
    "test_df = test_df / 1000\n",
    "pred_df = pd.read_csv('./logs/LSTM/917/labels_16/pred.csv', index_col=0)\n",
    "pred_df = pred_df / 1000"
   ],
   "metadata": {
    "collapsed": false,
    "pycharm": {
     "name": "#%%\n"
    }
   }
  },
  {
   "cell_type": "code",
   "execution_count": 43,
   "outputs": [],
   "source": [
    "%matplotlib tk\n",
    "plt.rcParams['font.size'] = '12'\n",
    "# Figure forecast\n",
    "# Define default kwargs\n",
    "defaultKwargs = {'marker': 'o',\n",
    "                 'linestyle': '-',\n",
    "                 'alpha': 0.3,\n",
    "                 'markersize': 2,\n",
    "                 'linewidth': 2.0,\n",
    "                 }\n",
    "kwargs_forecast = {'marker': 'o',\n",
    "                   'linestyle': '-',\n",
    "                   'alpha': 0.5,\n",
    "                   'markersize': 2,\n",
    "                   'color': 'tab:green',\n",
    "                   'linewidth': 2.0,\n",
    "                   }\n",
    "\n",
    "# Figure zoom\n",
    "fig = plt.figure(dpi=200, figsize=(4, 4))\n",
    "# plt.grid()\n",
    "test_df['CPU usage [MHZ]'][100:300].plot(label='actual', color='tab:grey', **defaultKwargs)\n",
    "pred_df['CPU usage [MHZ]'][100:300].plot(label='forecast', **kwargs_forecast)\n",
    "plt.ylabel('CPU usage [GHz]')\n",
    "plt.xlabel('Time')\n",
    "plt.title(f'LSTM Regression')\n",
    "plt.tick_params(\n",
    "    axis='x',          # changes apply to the x-axis\n",
    "    which='both',      # both major and minor ticks are affected\n",
    "    bottom=False,      # ticks along the bottom edge are off\n",
    "    top=False,         # ticks along the top edge are off\n",
    "    labelbottom=False) # labels along the bottom edge are off\n",
    "# plt.grid()\n",
    "plt.legend()\n",
    "save_path = os.path.join('../Figures/Modeling/Thesis', 'LSTM_fh16.pdf')\n",
    "plt.savefig(save_path, bbox_inches='tight')\n",
    "plt.close(fig)"
   ],
   "metadata": {
    "collapsed": false,
    "pycharm": {
     "name": "#%%\n"
    }
   }
  },
  {
   "cell_type": "code",
   "execution_count": null,
   "outputs": [],
   "source": [],
   "metadata": {
    "collapsed": false,
    "pycharm": {
     "name": "#%%\n"
    }
   }
  }
 ],
 "metadata": {
  "kernelspec": {
   "display_name": "Python 3",
   "language": "python",
   "name": "python3"
  },
  "language_info": {
   "codemirror_mode": {
    "name": "ipython",
    "version": 2
   },
   "file_extension": ".py",
   "mimetype": "text/x-python",
   "name": "python",
   "nbconvert_exporter": "python",
   "pygments_lexer": "ipython2",
   "version": "2.7.6"
  }
 },
 "nbformat": 4,
 "nbformat_minor": 0
}