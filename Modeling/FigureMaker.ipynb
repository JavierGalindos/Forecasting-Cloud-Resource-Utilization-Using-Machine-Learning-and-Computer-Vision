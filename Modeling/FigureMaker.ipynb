{
 "cells": [
  {
   "cell_type": "code",
   "execution_count": 1,
   "metadata": {
    "collapsed": true
   },
   "outputs": [
    {
     "name": "stdout",
     "output_type": "stream",
     "text": [
      "figures saved to ../Figures/Modeling/LSTM\n",
      "figures saved to ../Figures/Modeling/ConvLSTM\n",
      "figures saved to ../Datasets/fastStorage/images\n"
     ]
    }
   ],
   "source": [
    "import pandas as pd\n",
    "\n",
    "from LSTM import *\n",
    "from ConvLSTM import *"
   ]
  },
  {
   "cell_type": "code",
   "execution_count": 4,
   "outputs": [],
   "source": [
    "test_df = pd.read_csv('./logs/LSTM/917/CM_340/test.csv', index_col=0)\n",
    "pred_df = pd.read_csv('./logs/LSTM/917/CM_340/pred.csv', index_col=0)"
   ],
   "metadata": {
    "collapsed": false,
    "pycharm": {
     "name": "#%%\n"
    }
   }
  },
  {
   "cell_type": "code",
   "execution_count": 6,
   "outputs": [
    {
     "data": {
      "text/plain": "<matplotlib.legend.Legend at 0x15a38f520>"
     },
     "execution_count": 6,
     "metadata": {},
     "output_type": "execute_result"
    }
   ],
   "source": [
    "%matplotlib tk\n",
    "# Figure forecast\n",
    "# Define default kwargs\n",
    "defaultKwargs = {'marker': 'o',\n",
    "                 'linestyle': '-',\n",
    "                 'alpha': 0.3,\n",
    "                 'markersize': 2,\n",
    "                 'linewidth': 2.0,\n",
    "                 }\n",
    "kwargs_forecast = {'marker': 'o',\n",
    "                   'linestyle': '-',\n",
    "                   'alpha': 0.5,\n",
    "                   'markersize': 2,\n",
    "                   'color': 'tab:green',\n",
    "                   'linewidth': 2.0,\n",
    "                   }\n",
    "\n",
    "# Figure zoom\n",
    "fig = plt.figure(dpi=200, figsize=(15, 2))\n",
    "# plt.grid()\n",
    "test_df['CPU usage [MHZ]'].plot(label='actual', color='tab:grey', **defaultKwargs)\n",
    "pred_df['CPU usage [MHZ]'].plot(label='forecast', **kwargs_forecast)\n",
    "plt.ylabel('CPU usage [MHz]')\n",
    "# plt.title(f'Actual vs Forecast (Zoom)')\n",
    "# plt.grid()\n",
    "plt.legend()\n",
    "# save_path = os.path.join(FIGURES_PATH, self.model_name, self.name, 'forecast_zoom')\n",
    "# plt.savefig(save_path, bbox_inches='tight')\n",
    "# plt.close(fig)"
   ],
   "metadata": {
    "collapsed": false,
    "pycharm": {
     "name": "#%%\n"
    }
   }
  },
  {
   "cell_type": "code",
   "execution_count": 7,
   "outputs": [],
   "source": [
    "test_df = pd.read_csv('./logs/ConvLSTM/video/917/CM_340/test.csv', index_col=0)\n",
    "pred_df = pd.read_csv('./logs/ConvLSTM/video/917/CM_340/pred.csv', index_col=0)"
   ],
   "metadata": {
    "collapsed": false,
    "pycharm": {
     "name": "#%%\n"
    }
   }
  },
  {
   "cell_type": "code",
   "execution_count": 8,
   "outputs": [
    {
     "data": {
      "text/plain": "<matplotlib.legend.Legend at 0x168037910>"
     },
     "execution_count": 8,
     "metadata": {},
     "output_type": "execute_result"
    }
   ],
   "source": [
    "%matplotlib tk\n",
    "# Figure forecast\n",
    "# Define default kwargs\n",
    "defaultKwargs = {'marker': 'o',\n",
    "                 'linestyle': '-',\n",
    "                 'alpha': 0.3,\n",
    "                 'markersize': 2,\n",
    "                 'linewidth': 2.0,\n",
    "                 }\n",
    "kwargs_forecast = {'marker': 'o',\n",
    "                   'linestyle': '-',\n",
    "                   'alpha': 0.5,\n",
    "                   'markersize': 2,\n",
    "                   'color': 'tab:green',\n",
    "                   'linewidth': 2.0,\n",
    "                   }\n",
    "\n",
    "# Figure zoom\n",
    "fig = plt.figure(dpi=200, figsize=(15, 2))\n",
    "# plt.grid()\n",
    "test_df['CPU usage [MHZ]'].plot(label='actual', color='tab:grey', **defaultKwargs)\n",
    "pred_df['CPU usage [MHZ]'].plot(label='forecast', **kwargs_forecast)\n",
    "plt.ylabel('CPU usage [MHz]')\n",
    "# plt.title(f'Actual vs Forecast (Zoom)')\n",
    "# plt.grid()\n",
    "plt.legend()\n",
    "# save_path = os.path.join(FIGURES_PATH, self.model_name, self.name, 'forecast_zoom')\n",
    "# plt.savefig(save_path, bbox_inches='tight')\n",
    "# plt.close(fig)"
   ],
   "metadata": {
    "collapsed": false,
    "pycharm": {
     "name": "#%%\n"
    }
   }
  },
  {
   "cell_type": "code",
   "execution_count": null,
   "outputs": [],
   "source": [],
   "metadata": {
    "collapsed": false,
    "pycharm": {
     "name": "#%%\n"
    }
   }
  }
 ],
 "metadata": {
  "kernelspec": {
   "display_name": "Python 3",
   "language": "python",
   "name": "python3"
  },
  "language_info": {
   "codemirror_mode": {
    "name": "ipython",
    "version": 2
   },
   "file_extension": ".py",
   "mimetype": "text/x-python",
   "name": "python",
   "nbconvert_exporter": "python",
   "pygments_lexer": "ipython2",
   "version": "2.7.6"
  }
 },
 "nbformat": 4,
 "nbformat_minor": 0
}