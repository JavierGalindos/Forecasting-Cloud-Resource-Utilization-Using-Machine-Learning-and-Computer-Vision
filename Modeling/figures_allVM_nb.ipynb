{
 "cells": [
  {
   "cell_type": "code",
   "execution_count": 1,
   "metadata": {
    "collapsed": true
   },
   "outputs": [],
   "source": [
    "import os\n",
    "import matplotlib.pyplot as plt\n",
    "import pandas as pd"
   ]
  },
  {
   "cell_type": "code",
   "execution_count": 71,
   "outputs": [],
   "source": [
    "# Plotting options\n",
    "plt.rcParams['font.size'] = '13'\n",
    "LSTM_Kwargs = {'marker': 'o',\n",
    "               'linestyle': '-',\n",
    "               'alpha': 0.6,\n",
    "               'markersize': 2,\n",
    "               'linewidth': 2.0,\n",
    "               'color': 'tab:blue',\n",
    "                 }\n",
    "ConvLSTM_Kwargs = {'marker': 'v',\n",
    "                   'linestyle': '-',\n",
    "                   'alpha': 0.6,\n",
    "                   'markersize': 2,\n",
    "                   'color': 'tab:orange',\n",
    "                   'linewidth': 2.0,\n",
    "                   }"
   ],
   "metadata": {
    "collapsed": false,
    "pycharm": {
     "name": "#%%\n"
    }
   }
  },
  {
   "cell_type": "markdown",
   "source": [
    "# LSTM"
   ],
   "metadata": {
    "collapsed": false,
    "pycharm": {
     "name": "#%% md\n"
    }
   }
  },
  {
   "cell_type": "code",
   "execution_count": 2,
   "outputs": [],
   "source": [
    "# Constants\n",
    "LOGS_PATH = './logs/LSTM/917/CM_917'\n",
    "HP = 'CM322'\n",
    "HP_NAME = 'Sinus all VM'\n",
    "FIGURES_PATH = '../Figures/Modeling/LSTM/917/CM_917'"
   ],
   "metadata": {
    "collapsed": false,
    "pycharm": {
     "name": "#%%\n"
    }
   }
  },
  {
   "cell_type": "code",
   "execution_count": 3,
   "outputs": [],
   "source": [
    "# List files\n",
    "files_list = os.listdir(LOGS_PATH)\n",
    "# List files with specific hyper-parameters\n",
    "LSTM_df_list = []\n",
    "for idx, file in enumerate(files_list):\n",
    "    # Remove int() if parameters are not numeric\n",
    "    data = pd.read_csv(os.path.join(LOGS_PATH, files_list[idx], 'metrics.txt'),\n",
    "                       names=[int(files_list[idx])], sep=',', index_col=0, engine='python')\n",
    "    LSTM_df_list.append(data)\n",
    "\n",
    "# Create dataframe and sort\n",
    "LSTM_df = pd.concat(LSTM_df_list, axis=1)\n",
    "LSTM_df.sort_index(axis=1, inplace=True)\n",
    "LSTM_df = LSTM_df.T\n",
    "LSTM_df['model_size [B]'] = LSTM_df['model_size [B]'] * 0.000001\n",
    "LSTM_df = LSTM_df.rename(columns={'model_size [B]': 'model_size [MB]'})\n",
    "LSTM_df = LSTM_df.T\n",
    "# print(LSTM_df.round(3).T)"
   ],
   "metadata": {
    "collapsed": false,
    "pycharm": {
     "name": "#%%\n"
    }
   }
  },
  {
   "cell_type": "markdown",
   "source": [
    "# ConvLSTM"
   ],
   "metadata": {
    "collapsed": false,
    "pycharm": {
     "name": "#%% md\n"
    }
   }
  },
  {
   "cell_type": "code",
   "execution_count": 49,
   "outputs": [],
   "source": [
    "# Constants\n",
    "LOGS_PATH = './logs/ConvLSTM/video/917/CM_917'\n",
    "HP = 'CM322'\n",
    "HP_NAME = 'ConvLSTM vs LSTM'\n",
    "FIGURES_PATH = '../Figures/Modeling/ConvLSTM/video/917/CM_917'"
   ],
   "metadata": {
    "collapsed": false,
    "pycharm": {
     "name": "#%%\n"
    }
   }
  },
  {
   "cell_type": "code",
   "execution_count": 5,
   "outputs": [],
   "source": [
    "# List files\n",
    "files_list = os.listdir(LOGS_PATH)\n",
    "# List files with specific hyper-parameters\n",
    "ConvLSTM_df_list = []\n",
    "for idx, file in enumerate(files_list):\n",
    "    # Remove int() if parameters are not numeric\n",
    "    data = pd.read_csv(os.path.join(LOGS_PATH, files_list[idx], 'metrics.txt'),\n",
    "                       names=[int(files_list[idx])], sep=',', index_col=0, engine='python')\n",
    "    ConvLSTM_df_list.append(data)\n",
    "\n",
    "# Create dataframe and sort\n",
    "ConvLSTM_df = pd.concat(ConvLSTM_df_list, axis=1)\n",
    "ConvLSTM_df.sort_index(axis=1, inplace=True)\n",
    "ConvLSTM_df = ConvLSTM_df.T\n",
    "ConvLSTM_df['model_size [B]'] = ConvLSTM_df['model_size [B]'] * 0.000001\n",
    "ConvLSTM_df = ConvLSTM_df.rename(columns={'model_size [B]': 'model_size [MB]'})\n",
    "ConvLSTM_df = ConvLSTM_df.T\n",
    "# print(ConvLSTM_df.round(3).T)"
   ],
   "metadata": {
    "collapsed": false,
    "pycharm": {
     "name": "#%%\n"
    }
   }
  },
  {
   "cell_type": "code",
   "execution_count": 80,
   "outputs": [],
   "source": [
    "# MAE\n",
    "fig = plt.figure(dpi=200, figsize=(7, 3))\n",
    "plt.plot(ConvLSTM_df.iloc[1, :], label='ConvLSTM', **ConvLSTM_Kwargs)\n",
    "plt.plot(LSTM_df.iloc[1,:], label='LSTM', **LSTM_Kwargs)\n",
    "plt.tight_layout()\n",
    "plt.legend()\n",
    "plt.xlabel('#VM')\n",
    "plt.ylabel('MAE')\n",
    "# plt.title('MAE')\n",
    "if not os.access(os.path.join(FIGURES_PATH, HP_NAME), os.F_OK):\n",
    "    os.makedirs(os.path.join(FIGURES_PATH, HP_NAME))\n",
    "save_path = os.path.join(FIGURES_PATH, HP_NAME, 'MAE.pdf')\n",
    "plt.savefig(save_path, bbox_inches='tight')\n",
    "plt.close(fig)"
   ],
   "metadata": {
    "collapsed": false,
    "pycharm": {
     "name": "#%%\n"
    }
   }
  },
  {
   "cell_type": "code",
   "execution_count": 81,
   "outputs": [],
   "source": [
    "# MASE\n",
    "fig = plt.figure(dpi=200, figsize=(7, 3))\n",
    "plt.plot(ConvLSTM_df.iloc[4, :], label='ConvLSTM', **ConvLSTM_Kwargs)\n",
    "plt.plot(LSTM_df.iloc[4,:], label='LSTM', **LSTM_Kwargs)\n",
    "plt.tight_layout()\n",
    "plt.legend()\n",
    "plt.xlabel('#VM')\n",
    "plt.ylabel('MASE')\n",
    "# plt.title('MASE')\n",
    "if not os.access(os.path.join(FIGURES_PATH, HP_NAME), os.F_OK):\n",
    "    os.makedirs(os.path.join(FIGURES_PATH, HP_NAME))\n",
    "save_path = os.path.join(FIGURES_PATH, HP_NAME, 'MASE.pdf')\n",
    "plt.savefig(save_path, bbox_inches='tight')\n",
    "plt.close(fig)"
   ],
   "metadata": {
    "collapsed": false,
    "pycharm": {
     "name": "#%%\n"
    }
   }
  },
  {
   "cell_type": "code",
   "execution_count": 82,
   "outputs": [],
   "source": [
    "# IoU\n",
    "fig = plt.figure(dpi=200, figsize=(7, 3))\n",
    "plt.plot(ConvLSTM_df.iloc[8, :], label='ConvLSTM', **ConvLSTM_Kwargs)\n",
    "plt.plot(LSTM_df.iloc[8,:], label='LSTM', **LSTM_Kwargs)\n",
    "plt.tight_layout()\n",
    "plt.legend()\n",
    "plt.xlabel('#VM')\n",
    "plt.ylabel('IoU')\n",
    "# plt.title('IoU')\n",
    "if not os.access(os.path.join(FIGURES_PATH, HP_NAME), os.F_OK):\n",
    "    os.makedirs(os.path.join(FIGURES_PATH, HP_NAME))\n",
    "save_path = os.path.join(FIGURES_PATH, HP_NAME, 'IoU.pdf')\n",
    "plt.savefig(save_path, bbox_inches='tight')\n",
    "plt.close(fig)"
   ],
   "metadata": {
    "collapsed": false,
    "pycharm": {
     "name": "#%%\n"
    }
   }
  },
  {
   "cell_type": "code",
   "execution_count": 83,
   "outputs": [],
   "source": [
    "# DTW\n",
    "fig = plt.figure(dpi=200, figsize=(7, 3))\n",
    "plt.plot(ConvLSTM_df.iloc[9, :], label='ConvLSTM', **ConvLSTM_Kwargs)\n",
    "plt.plot(LSTM_df.iloc[9,:], label='LSTM', **LSTM_Kwargs)\n",
    "plt.tight_layout()\n",
    "plt.legend()\n",
    "plt.xlabel('#VM')\n",
    "plt.ylabel('DTW')\n",
    "# plt.title('DTW')\n",
    "if not os.access(os.path.join(FIGURES_PATH, HP_NAME), os.F_OK):\n",
    "    os.makedirs(os.path.join(FIGURES_PATH, HP_NAME))\n",
    "save_path = os.path.join(FIGURES_PATH, HP_NAME, 'DTW.pdf')\n",
    "plt.savefig(save_path, bbox_inches='tight')\n",
    "plt.close(fig)"
   ],
   "metadata": {
    "collapsed": false,
    "pycharm": {
     "name": "#%%\n"
    }
   }
  },
  {
   "cell_type": "code",
   "execution_count": 10,
   "outputs": [],
   "source": [
    "# Percentage error\n",
    "# LSTM_df['mean'] = LSTM_df.mean(axis=1)\n",
    "# ConvLSTM_df['mean'] = ConvLSTM_df.mean(axis=1)\n",
    "Comp_df = 100 * (ConvLSTM_df.mean(axis=1) - LSTM_df.mean(axis=1)) / LSTM_df.mean(axis=1)"
   ],
   "metadata": {
    "collapsed": false,
    "pycharm": {
     "name": "#%%\n"
    }
   }
  },
  {
   "cell_type": "code",
   "execution_count": 11,
   "outputs": [
    {
     "data": {
      "text/plain": "NaN                              NaN\nMAE                       -28.374739\nMAPE                      -20.205933\nRMSE                        2.676151\nMASE                      -28.789789\ntrain_time [s]           2348.659172\ninference_time [s]      39116.280219\nmodel_size [MB]        153784.599006\nIoU                       952.893783\nDTW                       -60.289451\nforecasting horizon         0.000000\ndtype: float64"
     },
     "execution_count": 11,
     "metadata": {},
     "output_type": "execute_result"
    }
   ],
   "source": [
    "Comp_df"
   ],
   "metadata": {
    "collapsed": false,
    "pycharm": {
     "name": "#%%\n"
    }
   }
  },
  {
   "cell_type": "markdown",
   "source": [
    "# Naive"
   ],
   "metadata": {
    "collapsed": false,
    "pycharm": {
     "name": "#%% md\n"
    }
   }
  },
  {
   "cell_type": "code",
   "execution_count": 37,
   "outputs": [],
   "source": [
    "LOGS_PATH = './logs/Baseline/naive/917/CM_917'\n",
    "# List files\n",
    "files_list = os.listdir(LOGS_PATH)\n",
    "# List files with specific hyper-parameters\n",
    "naive_df_list = []\n",
    "for idx, file in enumerate(files_list):\n",
    "    # Remove int() if parameters are not numeric\n",
    "    data = pd.read_csv(os.path.join(LOGS_PATH, files_list[idx], 'metrics.txt'),\n",
    "                       names=[int(files_list[idx])], sep=',', index_col=0, engine='python')\n",
    "    naive_df_list.append(data)\n",
    "\n",
    "# Create dataframe and sort\n",
    "naive_df = pd.concat(naive_df_list, axis=1)\n",
    "naive_df.sort_index(axis=1, inplace=True)\n",
    "naive_df = naive_df.T\n",
    "naive_df['model_size [B]'] = naive_df['model_size [B]'] * 0.000001\n",
    "naive_df = naive_df.rename(columns={'model_size [B]': 'model_size [MB]'})\n",
    "naive_df = naive_df.T\n",
    "# print(LSTM_df.round(3).T)"
   ],
   "metadata": {
    "collapsed": false,
    "pycharm": {
     "name": "#%%\n"
    }
   }
  },
  {
   "cell_type": "code",
   "execution_count": 38,
   "outputs": [],
   "source": [
    "Comp_ConvLSTM_df = 100 * (ConvLSTM_df.mean(axis=1) - naive_df.mean(axis=1)) / naive_df.mean(axis=1)\n",
    "Comp_LSTM_df = 100 * (LSTM_df.mean(axis=1) - naive_df.mean(axis=1)) / naive_df.mean(axis=1)"
   ],
   "metadata": {
    "collapsed": false,
    "pycharm": {
     "name": "#%%\n"
    }
   }
  },
  {
   "cell_type": "code",
   "execution_count": 39,
   "outputs": [
    {
     "data": {
      "text/plain": "NaN                            NaN\nMAE                      76.980885\nMAPE                   1328.941884\nRMSE                     23.328370\nMASE                    -58.909712\ntrain_time [s]         1713.369680\ninference_time [s]       52.370610\nmodel_size [MB]                NaN\nIoU                     -59.824173\nDTW                      96.564325\nforecasting horizon       0.000000\ndtype: float64"
     },
     "execution_count": 39,
     "metadata": {},
     "output_type": "execute_result"
    }
   ],
   "source": [
    "Comp_ConvLSTM_df"
   ],
   "metadata": {
    "collapsed": false,
    "pycharm": {
     "name": "#%%\n"
    }
   }
  },
  {
   "cell_type": "code",
   "execution_count": 40,
   "outputs": [
    {
     "data": {
      "text/plain": "NaN                            NaN\nMAE                     147.092831\nMAPE                   1690.787133\nRMSE                     20.113939\nMASE                    -42.297196\ntrain_time [s]          -25.944382\ninference_time [s]      -99.611461\nmodel_size [MB]                NaN\nIoU                     -96.184247\nDTW                     394.992715\nforecasting horizon       0.000000\ndtype: float64"
     },
     "execution_count": 40,
     "metadata": {},
     "output_type": "execute_result"
    }
   ],
   "source": [
    "Comp_LSTM_df"
   ],
   "metadata": {
    "collapsed": false,
    "pycharm": {
     "name": "#%%\n"
    }
   }
  },
  {
   "cell_type": "markdown",
   "source": [
    "# ConvLSTM in different shapes"
   ],
   "metadata": {
    "collapsed": false
   }
  },
  {
   "cell_type": "code",
   "execution_count": 20,
   "outputs": [],
   "source": [
    "# UpDown\n",
    "# Constants\n",
    "LOGS_PATH = './logs/ConvLSTM/video/917/CM_226'\n",
    "# List files\n",
    "files_list = os.listdir(LOGS_PATH)\n",
    "# List files with specific hyper-parameters\n",
    "ConvLSTM_df_list = []\n",
    "for idx, file in enumerate(files_list):\n",
    "    # Remove int() if parameters are not numeric\n",
    "    data = pd.read_csv(os.path.join(LOGS_PATH, files_list[idx], 'metrics.txt'),\n",
    "                       names=[int(files_list[idx])], sep=',', index_col=0, engine='python')\n",
    "    ConvLSTM_df_list.append(data)\n",
    "\n",
    "# Create dataframe and sort\n",
    "ConvLSTM_df_UpDown = pd.concat(ConvLSTM_df_list, axis=1)\n",
    "ConvLSTM_df_UpDown.sort_index(axis=1, inplace=True)\n",
    "ConvLSTM_df_UpDown = ConvLSTM_df_UpDown.T\n",
    "ConvLSTM_df_UpDown['model_size [B]'] = ConvLSTM_df_UpDown['model_size [B]'] * 0.000001\n",
    "ConvLSTM_df_UpDown = ConvLSTM_df_UpDown.rename(columns={'model_size [B]': 'model_size [MB]'})\n",
    "ConvLSTM_df_UpDown = ConvLSTM_df_UpDown.T"
   ],
   "metadata": {
    "collapsed": false,
    "pycharm": {
     "name": "#%%\n"
    }
   }
  },
  {
   "cell_type": "code",
   "execution_count": 24,
   "outputs": [
    {
     "data": {
      "text/plain": "NaN                           NaN\nMAE                    -18.544986\nMAPE                   -99.482038\nRMSE                     6.128446\nMASE                    -5.149345\ntrain_time [s]          -4.692565\ninference_time [s]       1.221094\nmodel_size [MB]          0.000000\nIoU                    187.359424\nDTW                    -27.323180\nforecasting horizon      0.000000\ndtype: float64"
     },
     "execution_count": 24,
     "metadata": {},
     "output_type": "execute_result"
    }
   ],
   "source": [
    "Comp_ConvLSTM_UpDown_df = 100 * (ConvLSTM_df_UpDown.mean(axis=1) - ConvLSTM_df.mean(axis=1)) / ConvLSTM_df.mean(axis=1)\n",
    "Comp_ConvLSTM_UpDown_df"
   ],
   "metadata": {
    "collapsed": false,
    "pycharm": {
     "name": "#%%\n"
    }
   }
  },
  {
   "cell_type": "code",
   "execution_count": 46,
   "outputs": [],
   "source": [
    "# Weird\n",
    "# Constants\n",
    "LOGS_PATH = './logs/ConvLSTM/video/917/CM_118'\n",
    "FIGURES_PATH = '../Figures/Modeling/ConvLSTM/video/917/CM_917'\n",
    "HP_NAME = 'Different shapes'\n",
    "# List files\n",
    "files_list = os.listdir(LOGS_PATH)\n",
    "# List files with specific hyper-parameters\n",
    "ConvLSTM_df_list = []\n",
    "for idx, file in enumerate(files_list):\n",
    "    # Remove int() if parameters are not numeric\n",
    "    data = pd.read_csv(os.path.join(LOGS_PATH, files_list[idx], 'metrics.txt'),\n",
    "                       names=[int(files_list[idx])], sep=',', index_col=0, engine='python')\n",
    "    ConvLSTM_df_list.append(data)\n",
    "\n",
    "# Create dataframe and sort\n",
    "ConvLSTM_df_weird = pd.concat(ConvLSTM_df_list, axis=1)\n",
    "ConvLSTM_df_weird.sort_index(axis=1, inplace=True)\n",
    "ConvLSTM_df_weird = ConvLSTM_df_weird.T\n",
    "ConvLSTM_df_weird['model_size [B]'] = ConvLSTM_df_weird['model_size [B]'] * 0.000001\n",
    "ConvLSTM_df_weird = ConvLSTM_df_weird.rename(columns={'model_size [B]': 'model_size [MB]'})\n",
    "ConvLSTM_df_weird = ConvLSTM_df_weird.T"
   ],
   "metadata": {
    "collapsed": false,
    "pycharm": {
     "name": "#%%\n"
    }
   }
  },
  {
   "cell_type": "code",
   "execution_count": 28,
   "outputs": [
    {
     "data": {
      "text/plain": "NaN                            NaN\nMAE                      -7.437580\nMAPE                   3437.481054\nRMSE                    -11.209500\nMASE                    -13.900889\ntrain_time [s]            6.926970\ninference_time [s]        0.195182\nmodel_size [MB]           0.000000\nIoU                     -27.848095\nDTW                     -26.095213\nforecasting horizon       0.000000\ndtype: float64"
     },
     "execution_count": 28,
     "metadata": {},
     "output_type": "execute_result"
    }
   ],
   "source": [
    "Comp_ConvLSTM_weird_df = 100 * (ConvLSTM_df_weird.mean(axis=1) - ConvLSTM_df_UpDown.mean(axis=1)) / ConvLSTM_df_UpDown.mean(axis=1)\n",
    "Comp_ConvLSTM_weird_df"
   ],
   "metadata": {
    "collapsed": false,
    "pycharm": {
     "name": "#%%\n"
    }
   }
  },
  {
   "cell_type": "code",
   "execution_count": 47,
   "outputs": [],
   "source": [
    "# MAE\n",
    "fig = plt.figure(dpi=200, figsize=(7, 3))\n",
    "plt.plot(ConvLSTM_df.iloc[1, :], label='Sinus')\n",
    "plt.plot(ConvLSTM_df_UpDown.iloc[1,:], label='UpDown')\n",
    "plt.plot(ConvLSTM_df_weird.iloc[1,:], label='Different')\n",
    "plt.tight_layout()\n",
    "plt.legend()\n",
    "plt.xlabel('#VM')\n",
    "plt.ylabel('error')\n",
    "plt.title('MAE')\n",
    "if not os.access(os.path.join(FIGURES_PATH, HP_NAME), os.F_OK):\n",
    "    os.makedirs(os.path.join(FIGURES_PATH, HP_NAME))\n",
    "save_path = os.path.join(FIGURES_PATH, HP_NAME, 'MAE')\n",
    "plt.savefig(save_path, bbox_inches='tight')\n",
    "plt.close(fig)"
   ],
   "metadata": {
    "collapsed": false,
    "pycharm": {
     "name": "#%%\n"
    }
   }
  },
  {
   "cell_type": "code",
   "execution_count": 33,
   "outputs": [],
   "source": [
    "# MASE\n",
    "fig = plt.figure(dpi=200, figsize=(7, 3))\n",
    "plt.plot(ConvLSTM_df.iloc[4, :], label='Sinus')\n",
    "plt.plot(ConvLSTM_df_UpDown.iloc[4,:], label='UpDown')\n",
    "plt.plot(ConvLSTM_df_weird.iloc[4,:], label='Different')\n",
    "plt.tight_layout()\n",
    "plt.legend()\n",
    "plt.xlabel('#VM')\n",
    "plt.ylabel('error')\n",
    "plt.title('MASE')\n",
    "if not os.access(os.path.join(FIGURES_PATH, HP_NAME), os.F_OK):\n",
    "    os.makedirs(os.path.join(FIGURES_PATH, HP_NAME))\n",
    "save_path = os.path.join(FIGURES_PATH, HP_NAME, 'MASE')\n",
    "plt.savefig(save_path, bbox_inches='tight')\n",
    "plt.close(fig)"
   ],
   "metadata": {
    "collapsed": false,
    "pycharm": {
     "name": "#%%\n"
    }
   }
  },
  {
   "cell_type": "code",
   "execution_count": 34,
   "outputs": [],
   "source": [
    "# IoU\n",
    "fig = plt.figure(dpi=200, figsize=(7, 3))\n",
    "plt.plot(ConvLSTM_df.iloc[8, :], label='Sinus')\n",
    "plt.plot(ConvLSTM_df_UpDown.iloc[8,:], label='UpDown')\n",
    "plt.plot(ConvLSTM_df_weird.iloc[8,:], label='Different')\n",
    "plt.tight_layout()\n",
    "plt.legend()\n",
    "plt.xlabel('#VM')\n",
    "plt.ylabel('metric')\n",
    "plt.title('IoU')\n",
    "if not os.access(os.path.join(FIGURES_PATH, HP_NAME), os.F_OK):\n",
    "    os.makedirs(os.path.join(FIGURES_PATH, HP_NAME))\n",
    "save_path = os.path.join(FIGURES_PATH, HP_NAME, 'IoU')\n",
    "plt.savefig(save_path, bbox_inches='tight')\n",
    "plt.close(fig)"
   ],
   "metadata": {
    "collapsed": false,
    "pycharm": {
     "name": "#%%\n"
    }
   }
  },
  {
   "cell_type": "code",
   "execution_count": null,
   "outputs": [],
   "source": [],
   "metadata": {
    "collapsed": false,
    "pycharm": {
     "name": "#%%\n"
    }
   }
  }
 ],
 "metadata": {
  "kernelspec": {
   "display_name": "Python 3",
   "language": "python",
   "name": "python3"
  },
  "language_info": {
   "codemirror_mode": {
    "name": "ipython",
    "version": 2
   },
   "file_extension": ".py",
   "mimetype": "text/x-python",
   "name": "python",
   "nbconvert_exporter": "python",
   "pygments_lexer": "ipython2",
   "version": "2.7.6"
  }
 },
 "nbformat": 4,
 "nbformat_minor": 0
}