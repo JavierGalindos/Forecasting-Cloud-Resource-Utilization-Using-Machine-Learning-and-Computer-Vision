{
 "cells": [
  {
   "cell_type": "code",
   "execution_count": 1,
   "metadata": {
    "collapsed": true
   },
   "outputs": [],
   "source": [
    "import os\n",
    "import matplotlib.pyplot as plt\n",
    "import pandas as pd"
   ]
  },
  {
   "cell_type": "markdown",
   "source": [
    "# LSTM"
   ],
   "metadata": {
    "collapsed": false,
    "pycharm": {
     "name": "#%% md\n"
    }
   }
  },
  {
   "cell_type": "code",
   "execution_count": 2,
   "outputs": [],
   "source": [
    "# Constants\n",
    "LOGS_PATH = './logs/LSTM/917/CM_917'\n",
    "HP = 'CM322'\n",
    "HP_NAME = 'Sinus all VM'\n",
    "FIGURES_PATH = '../Figures/Modeling/LSTM/917/CM_917'\n",
    "plt.rcParams['font.size'] = '13'"
   ],
   "metadata": {
    "collapsed": false,
    "pycharm": {
     "name": "#%%\n"
    }
   }
  },
  {
   "cell_type": "code",
   "execution_count": 3,
   "outputs": [],
   "source": [
    "# List files\n",
    "files_list = os.listdir(LOGS_PATH)\n",
    "# List files with specific hyper-parameters\n",
    "LSTM_df_list = []\n",
    "for idx, file in enumerate(files_list):\n",
    "    # Remove int() if parameters are not numeric\n",
    "    data = pd.read_csv(os.path.join(LOGS_PATH, files_list[idx], 'metrics.txt'),\n",
    "                       names=[int(files_list[idx])], sep=',', index_col=0, engine='python')\n",
    "    LSTM_df_list.append(data)\n",
    "\n",
    "# Create dataframe and sort\n",
    "LSTM_df = pd.concat(LSTM_df_list, axis=1)\n",
    "LSTM_df.sort_index(axis=1, inplace=True)\n",
    "LSTM_df = LSTM_df.T\n",
    "LSTM_df['model_size [B]'] = LSTM_df['model_size [B]'] * 0.000001\n",
    "LSTM_df = LSTM_df.rename(columns={'model_size [B]': 'model_size [MB]'})\n",
    "LSTM_df = LSTM_df.T\n",
    "# print(LSTM_df.round(3).T)"
   ],
   "metadata": {
    "collapsed": false,
    "pycharm": {
     "name": "#%%\n"
    }
   }
  },
  {
   "cell_type": "markdown",
   "source": [
    "# ConvLSTM"
   ],
   "metadata": {
    "collapsed": false,
    "pycharm": {
     "name": "#%% md\n"
    }
   }
  },
  {
   "cell_type": "code",
   "execution_count": 4,
   "outputs": [],
   "source": [
    "# Constants\n",
    "LOGS_PATH = './logs/ConvLSTM/video/917/CM_917'\n",
    "HP = 'CM322'\n",
    "HP_NAME = 'Sinus all VM'\n",
    "FIGURES_PATH = '../Figures/Modeling/ConvLSTM/video/917/CM_917'\n",
    "plt.rcParams['font.size'] = '13'"
   ],
   "metadata": {
    "collapsed": false,
    "pycharm": {
     "name": "#%%\n"
    }
   }
  },
  {
   "cell_type": "code",
   "execution_count": 5,
   "outputs": [],
   "source": [
    "# List files\n",
    "files_list = os.listdir(LOGS_PATH)\n",
    "# List files with specific hyper-parameters\n",
    "ConvLSTM_df_list = []\n",
    "for idx, file in enumerate(files_list):\n",
    "    # Remove int() if parameters are not numeric\n",
    "    data = pd.read_csv(os.path.join(LOGS_PATH, files_list[idx], 'metrics.txt'),\n",
    "                       names=[int(files_list[idx])], sep=',', index_col=0, engine='python')\n",
    "    ConvLSTM_df_list.append(data)\n",
    "\n",
    "# Create dataframe and sort\n",
    "ConvLSTM_df = pd.concat(ConvLSTM_df_list, axis=1)\n",
    "ConvLSTM_df.sort_index(axis=1, inplace=True)\n",
    "ConvLSTM_df = ConvLSTM_df.T\n",
    "ConvLSTM_df['model_size [B]'] = ConvLSTM_df['model_size [B]'] * 0.000001\n",
    "ConvLSTM_df = ConvLSTM_df.rename(columns={'model_size [B]': 'model_size [MB]'})\n",
    "ConvLSTM_df = ConvLSTM_df.T\n",
    "# print(ConvLSTM_df.round(3).T)"
   ],
   "metadata": {
    "collapsed": false,
    "pycharm": {
     "name": "#%%\n"
    }
   }
  },
  {
   "cell_type": "code",
   "execution_count": 6,
   "outputs": [],
   "source": [
    "# MAE\n",
    "fig = plt.figure(dpi=200, figsize=(7, 3))\n",
    "plt.plot(ConvLSTM_df.iloc[1, :], label='ConvLSTM')\n",
    "plt.plot(LSTM_df.iloc[1,:], label='LSTM')\n",
    "plt.tight_layout()\n",
    "plt.legend()\n",
    "plt.xlabel('#VM')\n",
    "plt.ylabel('error')\n",
    "plt.title('MAE')\n",
    "if not os.access(os.path.join(FIGURES_PATH, HP_NAME), os.F_OK):\n",
    "    os.makedirs(os.path.join(FIGURES_PATH, HP_NAME))\n",
    "save_path = os.path.join(FIGURES_PATH, HP_NAME, 'MAE')\n",
    "plt.savefig(save_path, bbox_inches='tight')\n",
    "plt.close(fig)"
   ],
   "metadata": {
    "collapsed": false,
    "pycharm": {
     "name": "#%%\n"
    }
   }
  },
  {
   "cell_type": "code",
   "execution_count": 7,
   "outputs": [],
   "source": [
    "# MASE\n",
    "fig = plt.figure(dpi=200, figsize=(7, 3))\n",
    "plt.plot(ConvLSTM_df.iloc[4, :], label='ConvLSTM')\n",
    "plt.plot(LSTM_df.iloc[4,:], label='LSTM')\n",
    "plt.tight_layout()\n",
    "plt.legend()\n",
    "plt.xlabel('#VM')\n",
    "plt.ylabel('error')\n",
    "plt.title('MASE')\n",
    "if not os.access(os.path.join(FIGURES_PATH, HP_NAME), os.F_OK):\n",
    "    os.makedirs(os.path.join(FIGURES_PATH, HP_NAME))\n",
    "save_path = os.path.join(FIGURES_PATH, HP_NAME, 'MASE')\n",
    "plt.savefig(save_path, bbox_inches='tight')\n",
    "plt.close(fig)"
   ],
   "metadata": {
    "collapsed": false,
    "pycharm": {
     "name": "#%%\n"
    }
   }
  },
  {
   "cell_type": "code",
   "execution_count": 8,
   "outputs": [],
   "source": [
    "# IoU\n",
    "fig = plt.figure(dpi=200, figsize=(7, 3))\n",
    "plt.plot(ConvLSTM_df.iloc[8, :], label='ConvLSTM')\n",
    "plt.plot(LSTM_df.iloc[8,:], label='LSTM')\n",
    "plt.tight_layout()\n",
    "plt.legend()\n",
    "plt.xlabel('#VM')\n",
    "plt.ylabel('metric')\n",
    "plt.title('IoU')\n",
    "if not os.access(os.path.join(FIGURES_PATH, HP_NAME), os.F_OK):\n",
    "    os.makedirs(os.path.join(FIGURES_PATH, HP_NAME))\n",
    "save_path = os.path.join(FIGURES_PATH, HP_NAME, 'IoU')\n",
    "plt.savefig(save_path, bbox_inches='tight')\n",
    "plt.close(fig)"
   ],
   "metadata": {
    "collapsed": false,
    "pycharm": {
     "name": "#%%\n"
    }
   }
  },
  {
   "cell_type": "code",
   "execution_count": 9,
   "outputs": [],
   "source": [
    "# DTW\n",
    "fig = plt.figure(dpi=200, figsize=(7, 3))\n",
    "plt.plot(ConvLSTM_df.iloc[9, :], label='ConvLSTM')\n",
    "plt.plot(LSTM_df.iloc[9,:], label='LSTM')\n",
    "plt.tight_layout()\n",
    "plt.legend()\n",
    "plt.xlabel('#VM')\n",
    "plt.ylabel('error')\n",
    "plt.title('DTW')\n",
    "if not os.access(os.path.join(FIGURES_PATH, HP_NAME), os.F_OK):\n",
    "    os.makedirs(os.path.join(FIGURES_PATH, HP_NAME))\n",
    "save_path = os.path.join(FIGURES_PATH, HP_NAME, 'DTW')\n",
    "plt.savefig(save_path, bbox_inches='tight')\n",
    "plt.close(fig)"
   ],
   "metadata": {
    "collapsed": false,
    "pycharm": {
     "name": "#%%\n"
    }
   }
  },
  {
   "cell_type": "code",
   "execution_count": 10,
   "outputs": [],
   "source": [
    "# Percentage error\n",
    "# LSTM_df['mean'] = LSTM_df.mean(axis=1)\n",
    "# ConvLSTM_df['mean'] = ConvLSTM_df.mean(axis=1)\n",
    "Comp_df = 100 * (ConvLSTM_df.mean(axis=1) - LSTM_df.mean(axis=1)) / LSTM_df.mean(axis=1)"
   ],
   "metadata": {
    "collapsed": false,
    "pycharm": {
     "name": "#%%\n"
    }
   }
  },
  {
   "cell_type": "code",
   "execution_count": 11,
   "outputs": [
    {
     "data": {
      "text/plain": "NaN                              NaN\nMAE                       -28.374739\nMAPE                      -20.205933\nRMSE                        2.676151\nMASE                      -28.789789\ntrain_time [s]           2348.659172\ninference_time [s]      39116.280219\nmodel_size [MB]        153784.599006\nIoU                       952.893783\nDTW                       -60.289451\nforecasting horizon         0.000000\ndtype: float64"
     },
     "execution_count": 11,
     "metadata": {},
     "output_type": "execute_result"
    }
   ],
   "source": [
    "Comp_df"
   ],
   "metadata": {
    "collapsed": false,
    "pycharm": {
     "name": "#%%\n"
    }
   }
  },
  {
   "cell_type": "markdown",
   "source": [
    "# Naive"
   ],
   "metadata": {
    "collapsed": false,
    "pycharm": {
     "name": "#%% md\n"
    }
   }
  },
  {
   "cell_type": "code",
   "execution_count": 12,
   "outputs": [],
   "source": [
    "LOGS_PATH = './logs/Baseline/naive/917/CM_917'\n",
    "# List files\n",
    "files_list = os.listdir(LOGS_PATH)\n",
    "# List files with specific hyper-parameters\n",
    "naive_df_list = []\n",
    "for idx, file in enumerate(files_list):\n",
    "    # Remove int() if parameters are not numeric\n",
    "    data = pd.read_csv(os.path.join(LOGS_PATH, files_list[idx], 'metrics.txt'),\n",
    "                       names=[int(files_list[idx])], sep=',', index_col=0, engine='python')\n",
    "    naive_df_list.append(data)\n",
    "\n",
    "# Create dataframe and sort\n",
    "naive_df = pd.concat(naive_df_list, axis=1)\n",
    "naive_df.sort_index(axis=1, inplace=True)\n",
    "naive_df = naive_df.T\n",
    "naive_df['model_size [B]'] = naive_df['model_size [B]'] * 0.000001\n",
    "naive_df = naive_df.rename(columns={'model_size [B]': 'model_size [MB]'})\n",
    "naive_df = naive_df.T\n",
    "# print(LSTM_df.round(3).T)"
   ],
   "metadata": {
    "collapsed": false,
    "pycharm": {
     "name": "#%%\n"
    }
   }
  },
  {
   "cell_type": "code",
   "execution_count": 13,
   "outputs": [],
   "source": [
    "Comp_ConvLSTM_df = 100 * (ConvLSTM_df.mean(axis=1) - naive_df.mean(axis=1)) / naive_df.mean(axis=1)\n",
    "Comp_LSTM_df = 100 * (LSTM_df.mean(axis=1) - naive_df.mean(axis=1)) / naive_df.mean(axis=1)"
   ],
   "metadata": {
    "collapsed": false,
    "pycharm": {
     "name": "#%%\n"
    }
   }
  },
  {
   "cell_type": "code",
   "execution_count": 14,
   "outputs": [
    {
     "data": {
      "text/plain": "NaN                             NaN\nMAE                    11411.394044\nMAPE                    1360.595099\nRMSE                    2933.398395\nMASE                    2572.641723\ntrain_time [s]          1738.376958\ninference_time [s]        54.471877\nmodel_size [MB]                 NaN\nIoU                      -56.934801\nDTW                    21546.695815\nforecasting horizon        0.000000\ndtype: float64"
     },
     "execution_count": 14,
     "metadata": {},
     "output_type": "execute_result"
    }
   ],
   "source": [
    "Comp_ConvLSTM_df"
   ],
   "metadata": {
    "collapsed": false,
    "pycharm": {
     "name": "#%%\n"
    }
   }
  },
  {
   "cell_type": "code",
   "execution_count": 15,
   "outputs": [
    {
     "data": {
      "text/plain": "NaN                             NaN\nMAE                    15971.695722\nMAPE                    1730.455764\nRMSE                    2854.335900\nMASE                    3653.172042\ntrain_time [s]           -24.923118\ninference_time [s]       -99.606103\nmodel_size [MB]                 NaN\nIoU                      -95.909825\nDTW                    54411.197339\nforecasting horizon        0.000000\ndtype: float64"
     },
     "execution_count": 15,
     "metadata": {},
     "output_type": "execute_result"
    }
   ],
   "source": [
    "Comp_LSTM_df"
   ],
   "metadata": {
    "collapsed": false,
    "pycharm": {
     "name": "#%%\n"
    }
   }
  },
  {
   "cell_type": "code",
   "execution_count": null,
   "outputs": [],
   "source": [],
   "metadata": {
    "collapsed": false,
    "pycharm": {
     "name": "#%%\n"
    }
   }
  }
 ],
 "metadata": {
  "kernelspec": {
   "display_name": "Python 3",
   "language": "python",
   "name": "python3"
  },
  "language_info": {
   "codemirror_mode": {
    "name": "ipython",
    "version": 2
   },
   "file_extension": ".py",
   "mimetype": "text/x-python",
   "name": "python",
   "nbconvert_exporter": "python",
   "pygments_lexer": "ipython2",
   "version": "2.7.6"
  }
 },
 "nbformat": 4,
 "nbformat_minor": 0
}