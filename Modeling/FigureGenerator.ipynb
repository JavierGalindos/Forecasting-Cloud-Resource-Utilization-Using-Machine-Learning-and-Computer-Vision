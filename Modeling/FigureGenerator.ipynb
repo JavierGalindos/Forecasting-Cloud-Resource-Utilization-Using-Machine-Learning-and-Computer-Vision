{
 "cells": [
  {
   "cell_type": "code",
   "execution_count": null,
   "metadata": {
    "collapsed": true
   },
   "outputs": [],
   "source": [
    "from Baseline import *\n",
    "from ConvLSTM import *\n",
    "from LSTM import *"
   ]
  },
  {
   "cell_type": "code",
   "execution_count": null,
   "outputs": [],
   "source": [
    "# Load data\n",
    "VM_NUM = 917\n",
    "VM = load_VM(f'{VM_NUM}.csv')\n",
    "# Make it univariate\n",
    "df = VM[['CPU usage [MHZ]']]\n",
    "\n",
    "# Split the data\n",
    "# (70%, 20%, 10%) split for the training, validation, and test sets\n",
    "train_df, val_df, test_df = split_data(df)\n",
    "\n",
    "# Normalizing\n",
    "scaler = MinMaxScaler()\n",
    "train_df, val_df, test_df = data_transformation(scaler, train_df, val_df, test_df)"
   ],
   "metadata": {
    "collapsed": false,
    "pycharm": {
     "name": "#%%\n"
    }
   }
  },
  {
   "cell_type": "code",
   "execution_count": null,
   "outputs": [],
   "source": [
    "# ConvLSTM\n",
    "ConvLSTM_model = ConvLSTMModel(input_width=128,\n",
    "                            label_width=16,\n",
    "                            df=df,\n",
    "                            image_width=128,\n",
    "                            model_name='AE',\n",
    "                            name='917/test',\n",
    "                            train_df=train_df,\n",
    "                            val_df=val_df,\n",
    "                            test_df=test_df,\n",
    "                            epoch=50,\n",
    "                            batch_size=16,\n",
    "                            n_frames=1,\n",
    "                            model_path='./logs/ConvLSTM/AE/917/labels_16/checkpoints/ConvLSTM_model_2022_04_01__12_57_53.hdf5',\n",
    "                            # numeric=True,\n",
    "                            # overlapping=0.9\n",
    "                            )\n",
    "# Load model\n",
    "if ConvLSTM_model.model_path is not None:\n",
    "    ConvLSTM_model.model = tf.keras.models.load_model(ConvLSTM_model.model_path)\n",
    "else:\n",
    "    ConvLSTM_model.model = get_model(ConvLSTM_model, ConvLSTM_model.model_name)\n",
    "\n",
    "# Predict\n",
    "# ConvLSTM_model.numeric = True\n",
    "if ConvLSTM_model.numeric is False:\n",
    "    pred, img_pred, pred_df_trf = ConvLSTM_model.prediction(scaler)\n",
    "else:\n",
    "    pred, pred_df_trf = ConvLSTM_model.prediction(scaler)"
   ],
   "metadata": {
    "collapsed": false,
    "pycharm": {
     "name": "#%%\n"
    }
   }
  },
  {
   "cell_type": "code",
   "execution_count": null,
   "outputs": [],
   "source": [],
   "metadata": {
    "collapsed": false,
    "pycharm": {
     "name": "#%%\n"
    }
   }
  }
 ],
 "metadata": {
  "kernelspec": {
   "display_name": "Python 3",
   "language": "python",
   "name": "python3"
  },
  "language_info": {
   "codemirror_mode": {
    "name": "ipython",
    "version": 2
   },
   "file_extension": ".py",
   "mimetype": "text/x-python",
   "name": "python",
   "nbconvert_exporter": "python",
   "pygments_lexer": "ipython2",
   "version": "2.7.6"
  }
 },
 "nbformat": 4,
 "nbformat_minor": 0
}