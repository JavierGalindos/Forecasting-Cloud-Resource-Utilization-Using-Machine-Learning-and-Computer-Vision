{
 "cells": [
  {
   "cell_type": "code",
   "execution_count": 1,
   "metadata": {
    "collapsed": true
   },
   "outputs": [
    {
     "name": "stdout",
     "output_type": "stream",
     "text": [
      "figures saved to ../Figures/Modeling/LSTM\n"
     ]
    }
   ],
   "source": [
    "import os\n",
    "\n",
    "import IPython.display\n",
    "import matplotlib.pyplot as plt\n",
    "import numpy as np\n",
    "import pandas as pd\n",
    "\n",
    "from LSTM import *\n",
    "\n",
    "mpl.rcParams['figure.figsize'] = (8, 6)\n",
    "mpl.rcParams['axes.grid'] = False"
   ]
  },
  {
   "cell_type": "code",
   "execution_count": 5,
   "outputs": [],
   "source": [
    "# Hyperparameters\n",
    "EPOCH = 100\n",
    "NAME = 'LSTM_CV9'\n",
    "INPUT_LENGTH = 10\n",
    "LABEL_LENGTH = 9\n",
    "HIDDEN_DIM = 20\n",
    "N_LAYERS = 1\n",
    "DROPOUT = 0\n",
    "CLASSIFICATION = False"
   ],
   "metadata": {
    "collapsed": false,
    "pycharm": {
     "name": "#%%\n"
    }
   }
  },
  {
   "cell_type": "code",
   "execution_count": 2,
   "outputs": [],
   "source": [
    "# Load data\n",
    "VM = load_VM('917.csv')\n",
    "# VM = load_VM('599.csv')\n",
    "# Make it univariate\n",
    "df = VM[['CPU usage [MHZ]']]\n",
    "# df = VM"
   ],
   "metadata": {
    "collapsed": false,
    "pycharm": {
     "name": "#%%\n"
    }
   }
  },
  {
   "cell_type": "code",
   "execution_count": 3,
   "outputs": [],
   "source": [
    "from sklearn.model_selection import TimeSeriesSplit\n",
    "tscv = TimeSeriesSplit(n_splits = 5)"
   ],
   "metadata": {
    "collapsed": false,
    "pycharm": {
     "name": "#%%\n"
    }
   }
  },
  {
   "cell_type": "code",
   "execution_count": null,
   "outputs": [],
   "source": [
    "metrics_cv = []\n",
    "for fold, idx in enumerate(tscv.split(df)):\n",
    "    print(f'Fold {fold}:')\n",
    "    # Get indexes for each fold (incremental for time series)\n",
    "    idxs = np.concatenate((idx[0], idx[1]))\n",
    "    df_fold = df.iloc[idxs,:]\n",
    "    NAME_FOLD = f'{NAME}_{fold}'\n",
    "\n",
    "    # Data pipeline\n",
    "    # Split the data\n",
    "    # (70%, 20%, 10%) split for the training, validation, and test sets\n",
    "    train_df, val_df, test_df = split_data(df_fold)\n",
    "\n",
    "    # Normalizing\n",
    "    scaler = MinMaxScaler()\n",
    "    train_df, val_df, test_df = data_transformation(scaler, train_df, val_df, test_df)\n",
    "\n",
    "    # LSTM model\n",
    "    lstm_model = LstmModel(input_width=INPUT_LENGTH, label_width=LABEL_LENGTH, df=df_fold, train_df=train_df, val_df=val_df,\n",
    "                           test_df=test_df, epoch=EPOCH, units=HIDDEN_DIM, layers=N_LAYERS, dropout=DROPOUT, name=NAME_FOLD,\n",
    "                           classification=CLASSIFICATION)\n",
    "\n",
    "    # Training\n",
    "    print('Training:')\n",
    "    history = lstm_model.compile_and_fit(patience=80)\n",
    "    # Prediction\n",
    "    print('Prediction:')\n",
    "    pred = lstm_model.prediction(scaler)\n",
    "    # Evaluation\n",
    "    print('Evaluation:')\n",
    "    metrics = lstm_model.evaluation(pred, scaler)\n",
    "    metrics_cv.append(metrics)"
   ],
   "metadata": {
    "collapsed": false,
    "pycharm": {
     "name": "#%%\n"
    }
   }
  },
  {
   "cell_type": "code",
   "execution_count": 12,
   "outputs": [],
   "source": [
    "metrics_cv_all = pd.concat(metrics_cv, axis=1)"
   ],
   "metadata": {
    "collapsed": false,
    "pycharm": {
     "name": "#%%\n"
    }
   }
  },
  {
   "cell_type": "code",
   "execution_count": 13,
   "outputs": [],
   "source": [
    "metrics_cv_all = metrics_cv_all.T.reset_index()"
   ],
   "metadata": {
    "collapsed": false,
    "pycharm": {
     "name": "#%%\n"
    }
   }
  },
  {
   "cell_type": "code",
   "execution_count": null,
   "outputs": [],
   "source": [
    "# Generate a plot with index\n",
    "for fold, idx in enumerate(tscv.split(df)):\n",
    "    print(f'Fold {fold}:')\n",
    "    # Get indexes for each fold (incremental for time series)\n",
    "    idxs = np.concatenate((idx[0], idx[1]))\n",
    "    df_fold = df.iloc[idxs, :]"
   ],
   "metadata": {
    "collapsed": false,
    "pycharm": {
     "name": "#%%\n"
    }
   }
  },
  {
   "cell_type": "code",
   "execution_count": 4,
   "outputs": [],
   "source": [
    "from matplotlib.patches import Patch\n",
    "\n",
    "np.random.seed(1338)\n",
    "cmap_data = plt.cm.Paired\n",
    "cmap_cv = plt.cm.Set2\n",
    "n_splits = 5"
   ],
   "metadata": {
    "collapsed": false,
    "pycharm": {
     "name": "#%%\n"
    }
   }
  },
  {
   "cell_type": "code",
   "execution_count": 7,
   "outputs": [],
   "source": [
    "def plot_cv_indices(cv, df, ax, n_splits, lw=10):\n",
    "    \"\"\"Create a sample plot for indices of a cross-validation object.\"\"\"\n",
    "\n",
    "    # Generate the training/testing visualizations for each CV split\n",
    "    for ii, idx in enumerate(cv.split(df)):\n",
    "        # Fill in indices with the training/test groups\n",
    "        idxs = np.concatenate((idx[0], idx[1]))\n",
    "        df_fold = df.iloc[idxs, :]\n",
    "        indices = np.array([np.nan] * len(df_fold))\n",
    "        n = len(df_fold)\n",
    "        training = 0.7\n",
    "        validation = 0.2\n",
    "        indices[0:int(n * training)] = 0\n",
    "        indices[int(n * training):int(n * (training + validation))] = 1\n",
    "        indices[int(n * (training + validation)):] = 2\n",
    "\n",
    "        # Visualize the results\n",
    "        ax.scatter(\n",
    "            range(len(indices)),\n",
    "            [ii + 0.5] * len(indices),\n",
    "            c=indices,\n",
    "            marker=\"_\",\n",
    "            lw=lw,\n",
    "            cmap=cmap_cv,\n",
    "            vmin=-0.2,\n",
    "            vmax=1.2,\n",
    "        )\n",
    "    #\n",
    "    # # Plot the data classes and groups at the end\n",
    "    # ax.scatter(\n",
    "    #     range(len(X)), [ii + 1.5] * len(X), c=y, marker=\"_\", lw=lw, cmap=cmap_data\n",
    "    # )\n",
    "    #\n",
    "    # ax.scatter(\n",
    "    #     range(len(X)), [ii + 2.5] * len(X), c=group, marker=\"_\", lw=lw, cmap=cmap_data\n",
    "    # )\n",
    "\n",
    "    # Formatting\n",
    "    yticklabels = list(range(n_splits))\n",
    "    ax.set(\n",
    "        yticks=np.arange(n_splits) + 0.5,\n",
    "        yticklabels=yticklabels,\n",
    "        xlabel=\"Sample index\",\n",
    "        ylabel=\"CV iteration\",\n",
    "        ylim=[n_splits + 0.2, -0.2],\n",
    "        xlim=[0, 9000],\n",
    "    )\n",
    "    ax.set_title(\"{}\".format(type(cv).__name__), fontsize=15)\n",
    "    return ax"
   ],
   "metadata": {
    "collapsed": false,
    "pycharm": {
     "name": "#%%\n"
    }
   }
  },
  {
   "cell_type": "code",
   "execution_count": 8,
   "outputs": [
    {
     "ename": "ValueError",
     "evalue": "'c' argument has 3 elements, which is inconsistent with 'x' and 'y' with size 2873.",
     "output_type": "error",
     "traceback": [
      "\u001B[0;31m---------------------------------------------------------------------------\u001B[0m",
      "\u001B[0;31mValueError\u001B[0m                                Traceback (most recent call last)",
      "Input \u001B[0;32mIn [8]\u001B[0m, in \u001B[0;36m<module>\u001B[0;34m\u001B[0m\n\u001B[1;32m      1\u001B[0m get_ipython()\u001B[38;5;241m.\u001B[39mrun_line_magic(\u001B[38;5;124m'\u001B[39m\u001B[38;5;124mmatplotlib\u001B[39m\u001B[38;5;124m'\u001B[39m, \u001B[38;5;124m'\u001B[39m\u001B[38;5;124mtk\u001B[39m\u001B[38;5;124m'\u001B[39m)\n\u001B[1;32m      2\u001B[0m fig, ax \u001B[38;5;241m=\u001B[39m plt\u001B[38;5;241m.\u001B[39msubplots()\n\u001B[0;32m----> 3\u001B[0m \u001B[43mplot_cv_indices\u001B[49m\u001B[43m(\u001B[49m\u001B[43mtscv\u001B[49m\u001B[43m,\u001B[49m\u001B[43m \u001B[49m\u001B[43mdf\u001B[49m\u001B[43m,\u001B[49m\u001B[43m \u001B[49m\u001B[43max\u001B[49m\u001B[43m,\u001B[49m\u001B[43m \u001B[49m\u001B[43mn_splits\u001B[49m\u001B[43m)\u001B[49m\n",
      "Input \u001B[0;32mIn [7]\u001B[0m, in \u001B[0;36mplot_cv_indices\u001B[0;34m(cv, df, ax, n_splits, lw)\u001B[0m\n\u001B[1;32m     15\u001B[0m     indices[\u001B[38;5;28mint\u001B[39m(n \u001B[38;5;241m*\u001B[39m (training \u001B[38;5;241m+\u001B[39m validation)):] \u001B[38;5;241m=\u001B[39m \u001B[38;5;241m2\u001B[39m\n\u001B[1;32m     17\u001B[0m     \u001B[38;5;66;03m# Visualize the results\u001B[39;00m\n\u001B[0;32m---> 18\u001B[0m     \u001B[43max\u001B[49m\u001B[38;5;241;43m.\u001B[39;49m\u001B[43mscatter\u001B[49m\u001B[43m(\u001B[49m\n\u001B[1;32m     19\u001B[0m \u001B[43m        \u001B[49m\u001B[38;5;28;43mrange\u001B[39;49m\u001B[43m(\u001B[49m\u001B[38;5;28;43mlen\u001B[39;49m\u001B[43m(\u001B[49m\u001B[43mindices\u001B[49m\u001B[43m)\u001B[49m\u001B[43m)\u001B[49m\u001B[43m,\u001B[49m\n\u001B[1;32m     20\u001B[0m \u001B[43m        \u001B[49m\u001B[43m[\u001B[49m\u001B[43mii\u001B[49m\u001B[43m \u001B[49m\u001B[38;5;241;43m+\u001B[39;49m\u001B[43m \u001B[49m\u001B[38;5;241;43m0.5\u001B[39;49m\u001B[43m]\u001B[49m\u001B[43m \u001B[49m\u001B[38;5;241;43m*\u001B[39;49m\u001B[43m \u001B[49m\u001B[38;5;28;43mlen\u001B[39;49m\u001B[43m(\u001B[49m\u001B[43mindices\u001B[49m\u001B[43m)\u001B[49m\u001B[43m,\u001B[49m\n\u001B[1;32m     21\u001B[0m \u001B[43m        \u001B[49m\u001B[43mc\u001B[49m\u001B[38;5;241;43m=\u001B[39;49m\u001B[43m[\u001B[49m\u001B[38;5;124;43m'\u001B[39;49m\u001B[38;5;124;43mtab:blue\u001B[39;49m\u001B[38;5;124;43m'\u001B[39;49m\u001B[43m,\u001B[49m\u001B[43m \u001B[49m\u001B[38;5;124;43m'\u001B[39;49m\u001B[38;5;124;43mtab:orange\u001B[39;49m\u001B[38;5;124;43m'\u001B[39;49m\u001B[43m,\u001B[49m\u001B[38;5;124;43m'\u001B[39;49m\u001B[38;5;124;43mtab:green\u001B[39;49m\u001B[38;5;124;43m'\u001B[39;49m\u001B[43m]\u001B[49m\u001B[43m,\u001B[49m\n\u001B[1;32m     22\u001B[0m \u001B[43m        \u001B[49m\u001B[43mmarker\u001B[49m\u001B[38;5;241;43m=\u001B[39;49m\u001B[38;5;124;43m\"\u001B[39;49m\u001B[38;5;124;43m_\u001B[39;49m\u001B[38;5;124;43m\"\u001B[39;49m\u001B[43m,\u001B[49m\n\u001B[1;32m     23\u001B[0m \u001B[43m        \u001B[49m\u001B[43mlw\u001B[49m\u001B[38;5;241;43m=\u001B[39;49m\u001B[43mlw\u001B[49m\u001B[43m,\u001B[49m\n\u001B[1;32m     24\u001B[0m \u001B[43m        \u001B[49m\u001B[43mcmap\u001B[49m\u001B[38;5;241;43m=\u001B[39;49m\u001B[43mcmap_cv\u001B[49m\u001B[43m,\u001B[49m\n\u001B[1;32m     25\u001B[0m \u001B[43m        \u001B[49m\u001B[43mvmin\u001B[49m\u001B[38;5;241;43m=\u001B[39;49m\u001B[38;5;241;43m-\u001B[39;49m\u001B[38;5;241;43m0.2\u001B[39;49m\u001B[43m,\u001B[49m\n\u001B[1;32m     26\u001B[0m \u001B[43m        \u001B[49m\u001B[43mvmax\u001B[49m\u001B[38;5;241;43m=\u001B[39;49m\u001B[38;5;241;43m1.2\u001B[39;49m\u001B[43m,\u001B[49m\n\u001B[1;32m     27\u001B[0m \u001B[43m    \u001B[49m\u001B[43m)\u001B[49m\n\u001B[1;32m     28\u001B[0m \u001B[38;5;66;03m#\u001B[39;00m\n\u001B[1;32m     29\u001B[0m \u001B[38;5;66;03m# # Plot the data classes and groups at the end\u001B[39;00m\n\u001B[1;32m     30\u001B[0m \u001B[38;5;66;03m# ax.scatter(\u001B[39;00m\n\u001B[0;32m   (...)\u001B[0m\n\u001B[1;32m     37\u001B[0m \n\u001B[1;32m     38\u001B[0m \u001B[38;5;66;03m# Formatting\u001B[39;00m\n\u001B[1;32m     39\u001B[0m yticklabels \u001B[38;5;241m=\u001B[39m \u001B[38;5;28mlist\u001B[39m(\u001B[38;5;28mrange\u001B[39m(n_splits))\n",
      "File \u001B[0;32m~/miniforge3/envs/native_m1/lib/python3.9/site-packages/matplotlib/__init__.py:1412\u001B[0m, in \u001B[0;36m_preprocess_data.<locals>.inner\u001B[0;34m(ax, data, *args, **kwargs)\u001B[0m\n\u001B[1;32m   1409\u001B[0m \u001B[38;5;129m@functools\u001B[39m\u001B[38;5;241m.\u001B[39mwraps(func)\n\u001B[1;32m   1410\u001B[0m \u001B[38;5;28;01mdef\u001B[39;00m \u001B[38;5;21minner\u001B[39m(ax, \u001B[38;5;241m*\u001B[39margs, data\u001B[38;5;241m=\u001B[39m\u001B[38;5;28;01mNone\u001B[39;00m, \u001B[38;5;241m*\u001B[39m\u001B[38;5;241m*\u001B[39mkwargs):\n\u001B[1;32m   1411\u001B[0m     \u001B[38;5;28;01mif\u001B[39;00m data \u001B[38;5;129;01mis\u001B[39;00m \u001B[38;5;28;01mNone\u001B[39;00m:\n\u001B[0;32m-> 1412\u001B[0m         \u001B[38;5;28;01mreturn\u001B[39;00m \u001B[43mfunc\u001B[49m\u001B[43m(\u001B[49m\u001B[43max\u001B[49m\u001B[43m,\u001B[49m\u001B[43m \u001B[49m\u001B[38;5;241;43m*\u001B[39;49m\u001B[38;5;28;43mmap\u001B[39;49m\u001B[43m(\u001B[49m\u001B[43msanitize_sequence\u001B[49m\u001B[43m,\u001B[49m\u001B[43m \u001B[49m\u001B[43margs\u001B[49m\u001B[43m)\u001B[49m\u001B[43m,\u001B[49m\u001B[43m \u001B[49m\u001B[38;5;241;43m*\u001B[39;49m\u001B[38;5;241;43m*\u001B[39;49m\u001B[43mkwargs\u001B[49m\u001B[43m)\u001B[49m\n\u001B[1;32m   1414\u001B[0m     bound \u001B[38;5;241m=\u001B[39m new_sig\u001B[38;5;241m.\u001B[39mbind(ax, \u001B[38;5;241m*\u001B[39margs, \u001B[38;5;241m*\u001B[39m\u001B[38;5;241m*\u001B[39mkwargs)\n\u001B[1;32m   1415\u001B[0m     auto_label \u001B[38;5;241m=\u001B[39m (bound\u001B[38;5;241m.\u001B[39marguments\u001B[38;5;241m.\u001B[39mget(label_namer)\n\u001B[1;32m   1416\u001B[0m                   \u001B[38;5;129;01mor\u001B[39;00m bound\u001B[38;5;241m.\u001B[39mkwargs\u001B[38;5;241m.\u001B[39mget(label_namer))\n",
      "File \u001B[0;32m~/miniforge3/envs/native_m1/lib/python3.9/site-packages/matplotlib/axes/_axes.py:4387\u001B[0m, in \u001B[0;36mAxes.scatter\u001B[0;34m(self, x, y, s, c, marker, cmap, norm, vmin, vmax, alpha, linewidths, edgecolors, plotnonfinite, **kwargs)\u001B[0m\n\u001B[1;32m   4384\u001B[0m \u001B[38;5;28;01mif\u001B[39;00m edgecolors \u001B[38;5;129;01mis\u001B[39;00m \u001B[38;5;28;01mNone\u001B[39;00m:\n\u001B[1;32m   4385\u001B[0m     orig_edgecolor \u001B[38;5;241m=\u001B[39m kwargs\u001B[38;5;241m.\u001B[39mget(\u001B[38;5;124m'\u001B[39m\u001B[38;5;124medgecolor\u001B[39m\u001B[38;5;124m'\u001B[39m, \u001B[38;5;28;01mNone\u001B[39;00m)\n\u001B[1;32m   4386\u001B[0m c, colors, edgecolors \u001B[38;5;241m=\u001B[39m \\\n\u001B[0;32m-> 4387\u001B[0m     \u001B[38;5;28;43mself\u001B[39;49m\u001B[38;5;241;43m.\u001B[39;49m\u001B[43m_parse_scatter_color_args\u001B[49m\u001B[43m(\u001B[49m\n\u001B[1;32m   4388\u001B[0m \u001B[43m        \u001B[49m\u001B[43mc\u001B[49m\u001B[43m,\u001B[49m\u001B[43m \u001B[49m\u001B[43medgecolors\u001B[49m\u001B[43m,\u001B[49m\u001B[43m \u001B[49m\u001B[43mkwargs\u001B[49m\u001B[43m,\u001B[49m\u001B[43m \u001B[49m\u001B[43mx\u001B[49m\u001B[38;5;241;43m.\u001B[39;49m\u001B[43msize\u001B[49m\u001B[43m,\u001B[49m\n\u001B[1;32m   4389\u001B[0m \u001B[43m        \u001B[49m\u001B[43mget_next_color_func\u001B[49m\u001B[38;5;241;43m=\u001B[39;49m\u001B[38;5;28;43mself\u001B[39;49m\u001B[38;5;241;43m.\u001B[39;49m\u001B[43m_get_patches_for_fill\u001B[49m\u001B[38;5;241;43m.\u001B[39;49m\u001B[43mget_next_color\u001B[49m\u001B[43m)\u001B[49m\n\u001B[1;32m   4391\u001B[0m \u001B[38;5;28;01mif\u001B[39;00m plotnonfinite \u001B[38;5;129;01mand\u001B[39;00m colors \u001B[38;5;129;01mis\u001B[39;00m \u001B[38;5;28;01mNone\u001B[39;00m:\n\u001B[1;32m   4392\u001B[0m     c \u001B[38;5;241m=\u001B[39m np\u001B[38;5;241m.\u001B[39mma\u001B[38;5;241m.\u001B[39mmasked_invalid(c)\n",
      "File \u001B[0;32m~/miniforge3/envs/native_m1/lib/python3.9/site-packages/matplotlib/axes/_axes.py:4237\u001B[0m, in \u001B[0;36mAxes._parse_scatter_color_args\u001B[0;34m(c, edgecolors, kwargs, xsize, get_next_color_func)\u001B[0m\n\u001B[1;32m   4233\u001B[0m     \u001B[38;5;28;01melse\u001B[39;00m:\n\u001B[1;32m   4234\u001B[0m         \u001B[38;5;28;01mif\u001B[39;00m \u001B[38;5;28mlen\u001B[39m(colors) \u001B[38;5;129;01mnot\u001B[39;00m \u001B[38;5;129;01min\u001B[39;00m (\u001B[38;5;241m0\u001B[39m, \u001B[38;5;241m1\u001B[39m, xsize):\n\u001B[1;32m   4235\u001B[0m             \u001B[38;5;66;03m# NB: remember that a single color is also acceptable.\u001B[39;00m\n\u001B[1;32m   4236\u001B[0m             \u001B[38;5;66;03m# Besides *colors* will be an empty array if c == 'none'.\u001B[39;00m\n\u001B[0;32m-> 4237\u001B[0m             \u001B[38;5;28;01mraise\u001B[39;00m invalid_shape_exception(\u001B[38;5;28mlen\u001B[39m(colors), xsize)\n\u001B[1;32m   4238\u001B[0m \u001B[38;5;28;01melse\u001B[39;00m:\n\u001B[1;32m   4239\u001B[0m     colors \u001B[38;5;241m=\u001B[39m \u001B[38;5;28;01mNone\u001B[39;00m  \u001B[38;5;66;03m# use cmap, norm after collection is created\u001B[39;00m\n",
      "\u001B[0;31mValueError\u001B[0m: 'c' argument has 3 elements, which is inconsistent with 'x' and 'y' with size 2873."
     ]
    }
   ],
   "source": [
    "%matplotlib tk\n",
    "fig, ax = plt.subplots()\n",
    "plot_cv_indices(tscv, df, ax, n_splits)"
   ],
   "metadata": {
    "collapsed": false,
    "pycharm": {
     "name": "#%%\n"
    }
   }
  },
  {
   "cell_type": "code",
   "execution_count": 2,
   "outputs": [],
   "source": [
    "df = pd.read_csv('./logs/LSTM_CV9_4/metrics_cv.txt',sep=',',index_col=0,engine='python')"
   ],
   "metadata": {
    "collapsed": false,
    "pycharm": {
     "name": "#%%\n"
    }
   }
  },
  {
   "cell_type": "markdown",
   "source": [],
   "metadata": {
    "collapsed": false
   }
  },
  {
   "cell_type": "code",
   "execution_count": 3,
   "outputs": [
    {
     "data": {
      "text/plain": "Text(0.5, 1.0, 'Cross-validation')"
     },
     "execution_count": 3,
     "metadata": {},
     "output_type": "execute_result"
    }
   ],
   "source": [
    "%matplotlib tk\n",
    "fig = plt.figure(dpi=200)\n",
    "df[['MAE','RMSE','MAPE']].T.plot.bar(rot=0)\n",
    "plt.xlabel('Metric')\n",
    "plt.title(f'Cross-validation')"
   ],
   "metadata": {
    "collapsed": false,
    "pycharm": {
     "name": "#%%\n"
    }
   }
  },
  {
   "cell_type": "code",
   "execution_count": null,
   "outputs": [],
   "source": [],
   "metadata": {
    "collapsed": false,
    "pycharm": {
     "name": "#%%\n"
    }
   }
  }
 ],
 "metadata": {
  "kernelspec": {
   "display_name": "Python 3",
   "language": "python",
   "name": "python3"
  },
  "language_info": {
   "codemirror_mode": {
    "name": "ipython",
    "version": 2
   },
   "file_extension": ".py",
   "mimetype": "text/x-python",
   "name": "python",
   "nbconvert_exporter": "python",
   "pygments_lexer": "ipython2",
   "version": "2.7.6"
  }
 },
 "nbformat": 4,
 "nbformat_minor": 0
}