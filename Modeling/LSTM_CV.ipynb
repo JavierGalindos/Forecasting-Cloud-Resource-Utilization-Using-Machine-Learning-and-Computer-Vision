{
 "cells": [
  {
   "cell_type": "code",
   "execution_count": 1,
   "metadata": {
    "collapsed": true
   },
   "outputs": [
    {
     "name": "stdout",
     "output_type": "stream",
     "text": [
      "figures saved to ../Figures/Modeling/LSTM\n"
     ]
    }
   ],
   "source": [
    "import os\n",
    "\n",
    "import IPython.display\n",
    "import matplotlib.pyplot as plt\n",
    "import numpy as np\n",
    "import pandas as pd\n",
    "\n",
    "from LSTM import *\n",
    "\n",
    "mpl.rcParams['figure.figsize'] = (8, 6)\n",
    "mpl.rcParams['axes.grid'] = False"
   ]
  },
  {
   "cell_type": "code",
   "execution_count": 2,
   "outputs": [],
   "source": [
    "# Hyperparameters\n",
    "EPOCH = 100\n",
    "NAME = 'LSTM_CV9'\n",
    "INPUT_LENGTH = 10\n",
    "LABEL_LENGTH = 9\n",
    "HIDDEN_DIM = 20\n",
    "N_LAYERS = 1\n",
    "DROPOUT = 0\n",
    "CLASSIFICATION = False"
   ],
   "metadata": {
    "collapsed": false,
    "pycharm": {
     "name": "#%%\n"
    }
   }
  },
  {
   "cell_type": "code",
   "execution_count": 11,
   "outputs": [],
   "source": [
    "# Load data\n",
    "VM = load_VM('917.csv')\n",
    "# VM = load_VM('599.csv')\n",
    "# Make it univariate\n",
    "df = VM[['CPU usage [MHZ]']]\n",
    "# df = VM"
   ],
   "metadata": {
    "collapsed": false,
    "pycharm": {
     "name": "#%%\n"
    }
   }
  },
  {
   "cell_type": "code",
   "execution_count": 12,
   "outputs": [],
   "source": [
    "from sklearn.model_selection import TimeSeriesSplit\n",
    "tscv = TimeSeriesSplit(n_splits = 5)"
   ],
   "metadata": {
    "collapsed": false,
    "pycharm": {
     "name": "#%%\n"
    }
   }
  },
  {
   "cell_type": "code",
   "execution_count": null,
   "outputs": [],
   "source": [
    "metrics_cv = []\n",
    "for fold, idx in enumerate(tscv.split(df)):\n",
    "    print(f'Fold {fold}:')\n",
    "    # Get indexes for each fold (incremental for time series)\n",
    "    idxs = np.concatenate((idx[0], idx[1]))\n",
    "    df_fold = df.iloc[idxs,:]\n",
    "    NAME_FOLD = f'{NAME}_{fold}'\n",
    "\n",
    "    # Data pipeline\n",
    "    # Split the data\n",
    "    # (70%, 20%, 10%) split for the training, validation, and test sets\n",
    "    train_df, val_df, test_df = split_data(df_fold)\n",
    "\n",
    "    # Normalizing\n",
    "    scaler = MinMaxScaler()\n",
    "    train_df, val_df, test_df = data_transformation(scaler, train_df, val_df, test_df)\n",
    "\n",
    "    # LSTM model\n",
    "    lstm_model = LstmModel(input_width=INPUT_LENGTH, label_width=LABEL_LENGTH, df=df_fold, train_df=train_df, val_df=val_df,\n",
    "                           test_df=test_df, epoch=EPOCH, units=HIDDEN_DIM, layers=N_LAYERS, dropout=DROPOUT, name=NAME_FOLD,\n",
    "                           classification=CLASSIFICATION)\n",
    "\n",
    "    # Training\n",
    "    print('Training:')\n",
    "    history = lstm_model.compile_and_fit(patience=80)\n",
    "    # Prediction\n",
    "    print('Prediction:')\n",
    "    pred = lstm_model.prediction(scaler)\n",
    "    # Evaluation\n",
    "    print('Evaluation:')\n",
    "    metrics = lstm_model.evaluation(pred, scaler)\n",
    "    metrics_cv.append(metrics)"
   ],
   "metadata": {
    "collapsed": false,
    "pycharm": {
     "name": "#%%\n"
    }
   }
  },
  {
   "cell_type": "code",
   "execution_count": 12,
   "outputs": [],
   "source": [
    "metrics_cv_all = pd.concat(metrics_cv, axis=1)"
   ],
   "metadata": {
    "collapsed": false,
    "pycharm": {
     "name": "#%%\n"
    }
   }
  },
  {
   "cell_type": "code",
   "execution_count": 13,
   "outputs": [],
   "source": [
    "metrics_cv_all = metrics_cv_all.T.reset_index()"
   ],
   "metadata": {
    "collapsed": false,
    "pycharm": {
     "name": "#%%\n"
    }
   }
  },
  {
   "cell_type": "code",
   "execution_count": null,
   "outputs": [],
   "source": [
    "# Generate a plot with index\n",
    "for fold, idx in enumerate(tscv.split(df)):\n",
    "    print(f'Fold {fold}:')\n",
    "    # Get indexes for each fold (incremental for time series)\n",
    "    idxs = np.concatenate((idx[0], idx[1]))\n",
    "    df_fold = df.iloc[idxs, :]"
   ],
   "metadata": {
    "collapsed": false,
    "pycharm": {
     "name": "#%%\n"
    }
   }
  },
  {
   "cell_type": "code",
   "execution_count": 9,
   "outputs": [],
   "source": [
    "from matplotlib.patches import Patch\n",
    "\n",
    "np.random.seed(1338)\n",
    "cmap_data = plt.cm.Paired\n",
    "cmap_cv = plt.cm.Set2\n",
    "n_splits = 5"
   ],
   "metadata": {
    "collapsed": false,
    "pycharm": {
     "name": "#%%\n"
    }
   }
  },
  {
   "cell_type": "code",
   "execution_count": 13,
   "outputs": [],
   "source": [
    "def plot_cv_indices(cv, df, ax, n_splits, lw=10):\n",
    "    \"\"\"Create a sample plot for indices of a cross-validation object.\"\"\"\n",
    "\n",
    "    # Generate the training/testing visualizations for each CV split\n",
    "    for ii, idx in enumerate(cv.split(df)):\n",
    "        # Fill in indices with the training/test groups\n",
    "        idxs = np.concatenate((idx[0], idx[1]))\n",
    "        df_fold = df.iloc[idxs, :]\n",
    "        indices = np.array([np.nan] * len(df_fold))\n",
    "        n = len(df_fold)\n",
    "        training = 0.7\n",
    "        validation = 0.2\n",
    "        indices[0:int(n * training)] = 0\n",
    "        indices[int(n * training):int(n * (training + validation))] = 1\n",
    "        indices[int(n * (training + validation)):] = 2\n",
    "\n",
    "        # Visualize the results\n",
    "        ax.scatter(\n",
    "            range(len(indices)),\n",
    "            [ii + 0.5] * len(indices),\n",
    "            c=indices,\n",
    "            marker=\"_\",\n",
    "            lw=lw,\n",
    "            cmap=cmap_cv,\n",
    "            vmin=-0.2,\n",
    "            vmax=1.2,\n",
    "        )\n",
    "    #\n",
    "    # # Plot the data classes and groups at the end\n",
    "    # ax.scatter(\n",
    "    #     range(len(X)), [ii + 1.5] * len(X), c=y, marker=\"_\", lw=lw, cmap=cmap_data\n",
    "    # )\n",
    "    #\n",
    "    # ax.scatter(\n",
    "    #     range(len(X)), [ii + 2.5] * len(X), c=group, marker=\"_\", lw=lw, cmap=cmap_data\n",
    "    # )\n",
    "\n",
    "    # Formatting\n",
    "    yticklabels = list(range(n_splits))\n",
    "    ax.set(\n",
    "        yticks=np.arange(n_splits) + 0.5,\n",
    "        yticklabels=yticklabels,\n",
    "        xlabel=\"Sample index\",\n",
    "        ylabel=\"CV iteration\",\n",
    "        ylim=[n_splits + 0.2, -0.2],\n",
    "        xlim=[0, 9000],\n",
    "    )\n",
    "    ax.set_title(\"{}\".format(type(cv).__name__), fontsize=15)\n",
    "    return ax"
   ],
   "metadata": {
    "collapsed": false,
    "pycharm": {
     "name": "#%%\n"
    }
   }
  },
  {
   "cell_type": "code",
   "execution_count": 17,
   "outputs": [],
   "source": [
    "%matplotlib tk\n",
    "fig, ax = plt.subplots()\n",
    "plot_cv_indices(tscv, df, ax, n_splits)\n",
    "ax.legend(\n",
    "        [Patch(color=cmap_cv(1)), Patch(color=cmap_cv(2)), Patch(color=cmap_cv(3))],\n",
    "        [\"Training set\", \"Validation set\", \"Testing set\"],\n",
    "        loc=(1.02, 0.8),\n",
    "    )\n",
    "# Make the legend fit\n",
    "plt.tight_layout()\n",
    "fig.subplots_adjust(right=0.7)"
   ],
   "metadata": {
    "collapsed": false,
    "pycharm": {
     "name": "#%%\n"
    }
   }
  },
  {
   "cell_type": "code",
   "execution_count": 2,
   "outputs": [],
   "source": [
    "df = pd.read_csv('./logs/549/CV6_4/metrics_cv.txt',sep=',',index_col=0,engine='python')"
   ],
   "metadata": {
    "collapsed": false,
    "pycharm": {
     "name": "#%%\n"
    }
   }
  },
  {
   "cell_type": "markdown",
   "source": [],
   "metadata": {
    "collapsed": false
   }
  },
  {
   "cell_type": "code",
   "execution_count": 3,
   "outputs": [
    {
     "data": {
      "text/plain": "Text(0.5, 1.0, 'Cross-validation')"
     },
     "execution_count": 3,
     "metadata": {},
     "output_type": "execute_result"
    }
   ],
   "source": [
    "%matplotlib tk\n",
    "# fig = plt.figure(dpi=200)\n",
    "df[['MAE','RMSE','MAPE']].T.plot.bar(rot=0)\n",
    "plt.xlabel('Metric')\n",
    "plt.title(f'Cross-validation')"
   ],
   "metadata": {
    "collapsed": false,
    "pycharm": {
     "name": "#%%\n"
    }
   }
  },
  {
   "cell_type": "code",
   "execution_count": null,
   "outputs": [],
   "source": [],
   "metadata": {
    "collapsed": false,
    "pycharm": {
     "name": "#%%\n"
    }
   }
  }
 ],
 "metadata": {
  "kernelspec": {
   "display_name": "Python 3",
   "language": "python",
   "name": "python3"
  },
  "language_info": {
   "codemirror_mode": {
    "name": "ipython",
    "version": 2
   },
   "file_extension": ".py",
   "mimetype": "text/x-python",
   "name": "python",
   "nbconvert_exporter": "python",
   "pygments_lexer": "ipython2",
   "version": "2.7.6"
  }
 },
 "nbformat": 4,
 "nbformat_minor": 0
}